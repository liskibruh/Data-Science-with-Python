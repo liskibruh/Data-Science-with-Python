{
 "cells": [
  {
   "cell_type": "markdown",
   "id": "7c74e174",
   "metadata": {},
   "source": [
    "# Lists and Tuples"
   ]
  },
  {
   "cell_type": "markdown",
   "id": "53233058",
   "metadata": {},
   "source": [
    "# Tuples\n",
    "Tuples Tuples are an ordered sequence.\n",
    "Tuples are expressed as comma-separated elements within parentheses."
   ]
  },
  {
   "cell_type": "code",
   "execution_count": 1,
   "id": "c9ca9dc2",
   "metadata": {},
   "outputs": [
    {
     "data": {
      "text/plain": [
       "(10, 9, 6, 5, 10, 8, 9, 6, 2)"
      ]
     },
     "execution_count": 1,
     "metadata": {},
     "output_type": "execute_result"
    }
   ],
   "source": [
    "ratings=(10,9,6,5,10,8,9,6,2)\n",
    "ratings"
   ]
  },
  {
   "cell_type": "markdown",
   "id": "e2613147",
   "metadata": {},
   "source": [
    "In Python, there are different types: strings, integer, float.\n",
    "They can all be contained in a tuple, but the type of the variable is tuple."
   ]
  },
  {
   "cell_type": "code",
   "execution_count": 3,
   "id": "d0d62c9c",
   "metadata": {},
   "outputs": [
    {
     "data": {
      "text/plain": [
       "('disco', 10, 1.2)"
      ]
     },
     "execution_count": 3,
     "metadata": {},
     "output_type": "execute_result"
    }
   ],
   "source": [
    "Tuple1=('disco',10,1.2)\n",
    "Tuple1"
   ]
  },
  {
   "cell_type": "code",
   "execution_count": 4,
   "id": "cca1f076",
   "metadata": {},
   "outputs": [
    {
     "data": {
      "text/plain": [
       "tuple"
      ]
     },
     "execution_count": 4,
     "metadata": {},
     "output_type": "execute_result"
    }
   ],
   "source": [
    "type(Tuple1)"
   ]
  },
  {
   "cell_type": "markdown",
   "id": "8f771871",
   "metadata": {},
   "source": [
    "Each element of a tuple can be accessed via an index."
   ]
  },
  {
   "cell_type": "code",
   "execution_count": 5,
   "id": "2c448dfe",
   "metadata": {},
   "outputs": [
    {
     "data": {
      "text/plain": [
       "'disco'"
      ]
     },
     "execution_count": 5,
     "metadata": {},
     "output_type": "execute_result"
    }
   ],
   "source": [
    "Tuple1[0]"
   ]
  },
  {
   "cell_type": "code",
   "execution_count": 6,
   "id": "2c399664",
   "metadata": {},
   "outputs": [
    {
     "data": {
      "text/plain": [
       "1.2"
      ]
     },
     "execution_count": 6,
     "metadata": {},
     "output_type": "execute_result"
    }
   ],
   "source": [
    "Tuple1[2]"
   ]
  },
  {
   "cell_type": "code",
   "execution_count": 8,
   "id": "e67d687a",
   "metadata": {},
   "outputs": [
    {
     "data": {
      "text/plain": [
       "1.2"
      ]
     },
     "execution_count": 8,
     "metadata": {},
     "output_type": "execute_result"
    }
   ],
   "source": [
    "Tuple1[-1]"
   ]
  },
  {
   "cell_type": "code",
   "execution_count": 9,
   "id": "950e26d6",
   "metadata": {},
   "outputs": [
    {
     "data": {
      "text/plain": [
       "'disco'"
      ]
     },
     "execution_count": 9,
     "metadata": {},
     "output_type": "execute_result"
    }
   ],
   "source": [
    "Tuple1[-3]"
   ]
  },
  {
   "cell_type": "markdown",
   "id": "48163286",
   "metadata": {},
   "source": [
    "We can concatenate or combine tuples by adding them."
   ]
  },
  {
   "cell_type": "code",
   "execution_count": 11,
   "id": "4e24d295",
   "metadata": {},
   "outputs": [
    {
     "data": {
      "text/plain": [
       "('disco', 10, 1.2, 'hard rock', 10)"
      ]
     },
     "execution_count": 11,
     "metadata": {},
     "output_type": "execute_result"
    }
   ],
   "source": [
    "Tuple2=Tuple1+('hard rock', 10)\n",
    "Tuple2"
   ]
  },
  {
   "cell_type": "markdown",
   "id": "878066c4",
   "metadata": {},
   "source": [
    "If we would like multiple elements from a tuple, we could also slice tuples.\n",
    "For example, if we want the first three elements.The last index is 1 larger than the index you want"
   ]
  },
  {
   "cell_type": "code",
   "execution_count": 12,
   "id": "a3ba7ce2",
   "metadata": {},
   "outputs": [
    {
     "data": {
      "text/plain": [
       "('disco', 10, 1.2)"
      ]
     },
     "execution_count": 12,
     "metadata": {},
     "output_type": "execute_result"
    }
   ],
   "source": [
    "Tuple2[0:3]"
   ]
  },
  {
   "cell_type": "code",
   "execution_count": 13,
   "id": "5c6072f4",
   "metadata": {},
   "outputs": [
    {
     "data": {
      "text/plain": [
       "('hard rock', 10)"
      ]
     },
     "execution_count": 13,
     "metadata": {},
     "output_type": "execute_result"
    }
   ],
   "source": [
    "Tuple2[3:5]"
   ]
  },
  {
   "cell_type": "markdown",
   "id": "bc5718d6",
   "metadata": {},
   "source": [
    "We can use the “len” command to obtain the length of a tuple."
   ]
  },
  {
   "cell_type": "code",
   "execution_count": 14,
   "id": "c7f03300",
   "metadata": {},
   "outputs": [
    {
     "data": {
      "text/plain": [
       "5"
      ]
     },
     "execution_count": 14,
     "metadata": {},
     "output_type": "execute_result"
    }
   ],
   "source": [
    "len(('disco', 10, 1.2, 'hard rock', 10))"
   ]
  },
  {
   "cell_type": "code",
   "execution_count": 15,
   "id": "e1b125ef",
   "metadata": {},
   "outputs": [
    {
     "data": {
      "text/plain": [
       "3"
      ]
     },
     "execution_count": 15,
     "metadata": {},
     "output_type": "execute_result"
    }
   ],
   "source": [
    "len(Tuple1)"
   ]
  },
  {
   "cell_type": "code",
   "execution_count": 16,
   "id": "15f13127",
   "metadata": {},
   "outputs": [
    {
     "data": {
      "text/plain": [
       "5"
      ]
     },
     "execution_count": 16,
     "metadata": {},
     "output_type": "execute_result"
    }
   ],
   "source": [
    "len(Tuple2)"
   ]
  },
  {
   "cell_type": "markdown",
   "id": "8ccb8dfb",
   "metadata": {},
   "source": [
    "Tuples are immutable, which means we can't change them."
   ]
  },
  {
   "cell_type": "code",
   "execution_count": 17,
   "id": "58817cae",
   "metadata": {},
   "outputs": [
    {
     "ename": "TypeError",
     "evalue": "'tuple' object does not support item assignment",
     "output_type": "error",
     "traceback": [
      "\u001b[1;31m---------------------------------------------------------------------------\u001b[0m",
      "\u001b[1;31mTypeError\u001b[0m                                 Traceback (most recent call last)",
      "Input \u001b[1;32mIn [17]\u001b[0m, in \u001b[0;36m<cell line: 2>\u001b[1;34m()\u001b[0m\n\u001b[0;32m      1\u001b[0m ratings1\u001b[38;5;241m=\u001b[39mratings\n\u001b[1;32m----> 2\u001b[0m ratings[\u001b[38;5;241m2\u001b[39m]\u001b[38;5;241m=\u001b[39m\u001b[38;5;241m4\u001b[39m\n",
      "\u001b[1;31mTypeError\u001b[0m: 'tuple' object does not support item assignment"
     ]
    }
   ],
   "source": [
    "ratings1=ratings\n",
    "ratings[2]=4"
   ]
  },
  {
   "cell_type": "markdown",
   "id": "2cfa4ef8",
   "metadata": {},
   "source": [
    "We can assign a different tuple to the Ratings variable."
   ]
  },
  {
   "cell_type": "code",
   "execution_count": 18,
   "id": "3562edb8",
   "metadata": {},
   "outputs": [
    {
     "data": {
      "text/plain": [
       "(2, 10, 1)"
      ]
     },
     "execution_count": 18,
     "metadata": {},
     "output_type": "execute_result"
    }
   ],
   "source": [
    "ratings=(2,10,1)\n",
    "ratings"
   ]
  },
  {
   "cell_type": "code",
   "execution_count": 19,
   "id": "e4fa4400",
   "metadata": {},
   "outputs": [
    {
     "data": {
      "text/plain": [
       "(10, 9, 6, 5, 10, 8, 9, 6, 2)"
      ]
     },
     "execution_count": 19,
     "metadata": {},
     "output_type": "execute_result"
    }
   ],
   "source": [
    "ratings1"
   ]
  },
  {
   "cell_type": "markdown",
   "id": "50b909ae",
   "metadata": {},
   "source": [
    "As a consequence of immutability, if we would like to manipulate a tuple, we must create\n",
    "a new tuple instead.\n",
    "For example, if we would like to sort a tuple, we use the function sorted.\n",
    "The input is the original tuple.\n",
    "The output is a new sorted tuple."
   ]
  },
  {
   "cell_type": "code",
   "execution_count": 21,
   "id": "293e6a19",
   "metadata": {},
   "outputs": [
    {
     "data": {
      "text/plain": [
       "[2, 5, 6, 6, 8, 9, 9, 10, 10]"
      ]
     },
     "execution_count": 21,
     "metadata": {},
     "output_type": "execute_result"
    }
   ],
   "source": [
    "ratings1Sorted=sorted(ratings1)\n",
    "ratings1Sorted"
   ]
  },
  {
   "cell_type": "markdown",
   "id": "0cc5b04d",
   "metadata": {},
   "source": [
    "A tuple can contain other tuples as well as other complex data types; this is called nesting."
   ]
  },
  {
   "cell_type": "code",
   "execution_count": 22,
   "id": "3584ecb6",
   "metadata": {},
   "outputs": [
    {
     "data": {
      "text/plain": [
       "(1, 2, ('pop', 'rock'), (3, 4), ('disco', (1, 2)))"
      ]
     },
     "execution_count": 22,
     "metadata": {},
     "output_type": "execute_result"
    }
   ],
   "source": [
    "NT=(1,2,('pop','rock'),(3,4),('disco',(1,2)))\n",
    "NT"
   ]
  },
  {
   "cell_type": "code",
   "execution_count": 24,
   "id": "b90fd372",
   "metadata": {},
   "outputs": [
    {
     "data": {
      "text/plain": [
       "5"
      ]
     },
     "execution_count": 24,
     "metadata": {},
     "output_type": "execute_result"
    }
   ],
   "source": [
    "len(NT)"
   ]
  },
  {
   "cell_type": "code",
   "execution_count": 23,
   "id": "60b24982",
   "metadata": {},
   "outputs": [
    {
     "data": {
      "text/plain": [
       "('pop', 'rock')"
      ]
     },
     "execution_count": 23,
     "metadata": {},
     "output_type": "execute_result"
    }
   ],
   "source": [
    "NT[2]"
   ]
  },
  {
   "cell_type": "code",
   "execution_count": 25,
   "id": "973859bf",
   "metadata": {},
   "outputs": [
    {
     "data": {
      "text/plain": [
       "('disco', (1, 2))"
      ]
     },
     "execution_count": 25,
     "metadata": {},
     "output_type": "execute_result"
    }
   ],
   "source": [
    "NT[4]"
   ]
  },
  {
   "cell_type": "markdown",
   "id": "b57a3fd4",
   "metadata": {},
   "source": [
    "We can visualize this nesting as a tree.\n",
    "If we consider indexes with other tuples, we see the tuple at index 2 contains a tuple\n",
    "with two elements.\n",
    "We can access those two indexes.\n",
    "The same convention applies to index 3.\n",
    "We can access the elements in those tuples as well.\n",
    "We can continue the process."
   ]
  },
  {
   "cell_type": "code",
   "execution_count": 26,
   "id": "7b0206e8",
   "metadata": {},
   "outputs": [
    {
     "data": {
      "text/plain": [
       "'rock'"
      ]
     },
     "execution_count": 26,
     "metadata": {},
     "output_type": "execute_result"
    }
   ],
   "source": [
    "NT[2][1]"
   ]
  },
  {
   "cell_type": "markdown",
   "id": "7c0424e6",
   "metadata": {},
   "source": [
    "We can even access deeper levels of the tree by adding another square bracket.\n",
    "We can access different characters in the string or various elements"
   ]
  },
  {
   "cell_type": "code",
   "execution_count": 27,
   "id": "d13599ee",
   "metadata": {},
   "outputs": [
    {
     "data": {
      "text/plain": [
       "'r'"
      ]
     },
     "execution_count": 27,
     "metadata": {},
     "output_type": "execute_result"
    }
   ],
   "source": [
    "NT[2][1][0]"
   ]
  },
  {
   "cell_type": "code",
   "execution_count": 28,
   "id": "09d9a8a0",
   "metadata": {},
   "outputs": [
    {
     "data": {
      "text/plain": [
       "1"
      ]
     },
     "execution_count": 28,
     "metadata": {},
     "output_type": "execute_result"
    }
   ],
   "source": [
    "NT[4][1][0]"
   ]
  },
  {
   "cell_type": "markdown",
   "id": "6976eb0b",
   "metadata": {},
   "source": [
    "## Lists"
   ]
  },
  {
   "cell_type": "markdown",
   "id": "9bd0000c",
   "metadata": {},
   "source": [
    "Lists are also an ordered sequence.\n",
    "Here is a list L. A list is represented with square brackets."
   ]
  },
  {
   "cell_type": "code",
   "execution_count": 30,
   "id": "d8245742",
   "metadata": {},
   "outputs": [
    {
     "data": {
      "text/plain": [
       "['Michael Jackson', 10.1, 1982]"
      ]
     },
     "execution_count": 30,
     "metadata": {},
     "output_type": "execute_result"
    }
   ],
   "source": [
    "L=['Michael Jackson', 10.1, 1982]\n",
    "L"
   ]
  },
  {
   "cell_type": "markdown",
   "id": "1d183cca",
   "metadata": {},
   "source": [
    "Lists can contain strings, floats, integers.\n",
    "We can nest other lists.\n",
    "We also nest tuples and other data structures; the same indexing conventions apply for nesting."
   ]
  },
  {
   "cell_type": "code",
   "execution_count": 32,
   "id": "e8b01b64",
   "metadata": {},
   "outputs": [
    {
     "data": {
      "text/plain": [
       "['Michael Jackson', 10.1, 1982, [1, 2], ('A', 1)]"
      ]
     },
     "execution_count": 32,
     "metadata": {},
     "output_type": "execute_result"
    }
   ],
   "source": [
    "List1=['Michael Jackson', 10.1, 1982, [1,2],('A',1)]\n",
    "List1"
   ]
  },
  {
   "cell_type": "markdown",
   "id": "fab95b2e",
   "metadata": {},
   "source": [
    "Like tuples, each element of a list can be accessed via an index."
   ]
  },
  {
   "cell_type": "code",
   "execution_count": 33,
   "id": "2e9120d4",
   "metadata": {},
   "outputs": [
    {
     "data": {
      "text/plain": [
       "5"
      ]
     },
     "execution_count": 33,
     "metadata": {},
     "output_type": "execute_result"
    }
   ],
   "source": [
    "len(List1)"
   ]
  },
  {
   "cell_type": "code",
   "execution_count": 34,
   "id": "3c7a967b",
   "metadata": {},
   "outputs": [
    {
     "data": {
      "text/plain": [
       "('A', 1)"
      ]
     },
     "execution_count": 34,
     "metadata": {},
     "output_type": "execute_result"
    }
   ],
   "source": [
    "List1[4]"
   ]
  },
  {
   "cell_type": "code",
   "execution_count": 35,
   "id": "d72229e6",
   "metadata": {},
   "outputs": [
    {
     "data": {
      "text/plain": [
       "1982"
      ]
     },
     "execution_count": 35,
     "metadata": {},
     "output_type": "execute_result"
    }
   ],
   "source": [
    "List1[2]"
   ]
  },
  {
   "cell_type": "code",
   "execution_count": 36,
   "id": "6371b4bf",
   "metadata": {},
   "outputs": [
    {
     "data": {
      "text/plain": [
       "('A', 1)"
      ]
     },
     "execution_count": 36,
     "metadata": {},
     "output_type": "execute_result"
    }
   ],
   "source": [
    "List1[-1]"
   ]
  },
  {
   "cell_type": "markdown",
   "id": "3b5aa80f",
   "metadata": {},
   "source": [
    "We can also perform slicing in lists.\n",
    "For example, if we want the last two elements in this list we use the following command."
   ]
  },
  {
   "cell_type": "code",
   "execution_count": 37,
   "id": "10e309f3",
   "metadata": {},
   "outputs": [
    {
     "data": {
      "text/plain": [
       "[[1, 2], ('A', 1)]"
      ]
     },
     "execution_count": 37,
     "metadata": {},
     "output_type": "execute_result"
    }
   ],
   "source": [
    "List1[3:5]"
   ]
  },
  {
   "cell_type": "markdown",
   "id": "2a3202b9",
   "metadata": {},
   "source": [
    "We can concatenate or combine lists by adding them."
   ]
  },
  {
   "cell_type": "code",
   "execution_count": 38,
   "id": "3e51e8d0",
   "metadata": {},
   "outputs": [
    {
     "data": {
      "text/plain": [
       "['Michael Jackson', 10.1, 1982, 'pop', 10]"
      ]
     },
     "execution_count": 38,
     "metadata": {},
     "output_type": "execute_result"
    }
   ],
   "source": [
    "L1=L+['pop',10]\n",
    "L1"
   ]
  },
  {
   "cell_type": "markdown",
   "id": "4ee401bb",
   "metadata": {},
   "source": [
    "In many respects lists are like tuples, one key difference is they are mutable. For example, we apply the method extends by adding a \"dot\" followed by the name of the\n",
    "method, then parenthesis.\n",
    "The argument inside the parenthesis is a new list that we are going to concatenate to the\n",
    "original list.\n",
    "In the following case, instead of creating a new list, L1, the original list L is modified by adding\n",
    "two new elements."
   ]
  },
  {
   "cell_type": "code",
   "execution_count": 39,
   "id": "9a91d2a1",
   "metadata": {},
   "outputs": [
    {
     "data": {
      "text/plain": [
       "['Michael Jackson', 10.1, 1982, 'pop', 10]"
      ]
     },
     "execution_count": 39,
     "metadata": {},
     "output_type": "execute_result"
    }
   ],
   "source": [
    "L.extend(['pop', 10])\n",
    "L"
   ]
  },
  {
   "cell_type": "markdown",
   "id": "d8b41fb5",
   "metadata": {},
   "source": [
    "Another similar method is append.\n",
    "If we apply append instead of extended we add one element to the list."
   ]
  },
  {
   "cell_type": "code",
   "execution_count": 46,
   "id": "adb8df7e",
   "metadata": {},
   "outputs": [
    {
     "data": {
      "text/plain": [
       "['Michael Jackson', 10.1, 1982]"
      ]
     },
     "execution_count": 46,
     "metadata": {},
     "output_type": "execute_result"
    }
   ],
   "source": [
    "L=['Michael Jackson', 10.1, 1982]\n",
    "L"
   ]
  },
  {
   "cell_type": "code",
   "execution_count": 47,
   "id": "9aaf17ca",
   "metadata": {},
   "outputs": [
    {
     "data": {
      "text/plain": [
       "3"
      ]
     },
     "execution_count": 47,
     "metadata": {},
     "output_type": "execute_result"
    }
   ],
   "source": [
    "len(L)"
   ]
  },
  {
   "cell_type": "code",
   "execution_count": 48,
   "id": "f58ee2ad",
   "metadata": {},
   "outputs": [
    {
     "data": {
      "text/plain": [
       "['Michael Jackson', 10.1, 1982, ['pop', 10]]"
      ]
     },
     "execution_count": 48,
     "metadata": {},
     "output_type": "execute_result"
    }
   ],
   "source": [
    "L.append(['pop', 10])\n",
    "L"
   ]
  },
  {
   "cell_type": "code",
   "execution_count": 49,
   "id": "86ec45b6",
   "metadata": {},
   "outputs": [
    {
     "data": {
      "text/plain": [
       "4"
      ]
     },
     "execution_count": 49,
     "metadata": {},
     "output_type": "execute_result"
    }
   ],
   "source": [
    "len(L)"
   ]
  },
  {
   "cell_type": "markdown",
   "id": "4996980d",
   "metadata": {},
   "source": [
    "Every time we apply a method, the lists changes."
   ]
  },
  {
   "cell_type": "code",
   "execution_count": 50,
   "id": "7bd2f3aa",
   "metadata": {},
   "outputs": [
    {
     "data": {
      "text/plain": [
       "['Michael Jackson', 10.1, 1982, ['pop', 10], ['pop', 10]]"
      ]
     },
     "execution_count": 50,
     "metadata": {},
     "output_type": "execute_result"
    }
   ],
   "source": [
    "L.append(['pop', 10])\n",
    "L"
   ]
  },
  {
   "cell_type": "code",
   "execution_count": 51,
   "id": "fae23791",
   "metadata": {},
   "outputs": [
    {
     "data": {
      "text/plain": [
       "['Michael Jackson', 10.1, 1982, ['pop', 10], ['pop', 10], ['pop', 10]]"
      ]
     },
     "execution_count": 51,
     "metadata": {},
     "output_type": "execute_result"
    }
   ],
   "source": [
    "L.append(['pop', 10])\n",
    "L"
   ]
  },
  {
   "cell_type": "code",
   "execution_count": 52,
   "id": "cbcb6e42",
   "metadata": {},
   "outputs": [
    {
     "data": {
      "text/plain": [
       "['Michael Jackson',\n",
       " 10.1,\n",
       " 1982,\n",
       " ['pop', 10],\n",
       " ['pop', 10],\n",
       " ['pop', 10],\n",
       " 'pop',\n",
       " 10]"
      ]
     },
     "execution_count": 52,
     "metadata": {},
     "output_type": "execute_result"
    }
   ],
   "source": [
    "L.extend(['pop', 10])\n",
    "L"
   ]
  },
  {
   "cell_type": "markdown",
   "id": "3ae42877",
   "metadata": {},
   "source": [
    "As lists are mutable, we can change them.\n",
    "For example, we can change the first element as follows."
   ]
  },
  {
   "cell_type": "code",
   "execution_count": 53,
   "id": "a8566807",
   "metadata": {},
   "outputs": [
    {
     "data": {
      "text/plain": [
       "['disco', 10, 1.2]"
      ]
     },
     "execution_count": 53,
     "metadata": {},
     "output_type": "execute_result"
    }
   ],
   "source": [
    "A=['disco',10,1.2]\n",
    "A"
   ]
  },
  {
   "cell_type": "code",
   "execution_count": 54,
   "id": "2b9718b0",
   "metadata": {},
   "outputs": [
    {
     "data": {
      "text/plain": [
       "['hard rock', 10, 1.2]"
      ]
     },
     "execution_count": 54,
     "metadata": {},
     "output_type": "execute_result"
    }
   ],
   "source": [
    "A[0]='hard rock'\n",
    "A"
   ]
  },
  {
   "cell_type": "markdown",
   "id": "7d84b17f",
   "metadata": {},
   "source": [
    "We can delete an element of a list using the \"del\" command; we simply indicate the list\n",
    "item we would like to remove as an argument."
   ]
  },
  {
   "cell_type": "code",
   "execution_count": 55,
   "id": "41f58059",
   "metadata": {},
   "outputs": [
    {
     "data": {
      "text/plain": [
       "[10, 1.2]"
      ]
     },
     "execution_count": 55,
     "metadata": {},
     "output_type": "execute_result"
    }
   ],
   "source": [
    "del(A[0])\n",
    "A"
   ]
  },
  {
   "cell_type": "markdown",
   "id": "3d16066f",
   "metadata": {},
   "source": [
    "We can convert a string to a list using split.\n",
    "For example, the method split converts every group of characters separated by a space into\n",
    "an element of a list."
   ]
  },
  {
   "cell_type": "code",
   "execution_count": 56,
   "id": "6d8bf6c2",
   "metadata": {},
   "outputs": [
    {
     "data": {
      "text/plain": [
       "['hard', 'rock']"
      ]
     },
     "execution_count": 56,
     "metadata": {},
     "output_type": "execute_result"
    }
   ],
   "source": [
    "'hard rock'.split()"
   ]
  },
  {
   "cell_type": "markdown",
   "id": "7664eef7",
   "metadata": {},
   "source": [
    "We can use the split function to separate strings on a specific character, known as\n",
    "a delimiter."
   ]
  },
  {
   "cell_type": "code",
   "execution_count": 57,
   "id": "5c608451",
   "metadata": {},
   "outputs": [
    {
     "data": {
      "text/plain": [
       "['A', 'B', 'C', 'D']"
      ]
     },
     "execution_count": 57,
     "metadata": {},
     "output_type": "execute_result"
    }
   ],
   "source": [
    "'A,B,C,D'.split(',')"
   ]
  },
  {
   "cell_type": "code",
   "execution_count": 58,
   "id": "0722f797",
   "metadata": {},
   "outputs": [
    {
     "data": {
      "text/plain": [
       "['This is one string', ' This is another string']"
      ]
     },
     "execution_count": 58,
     "metadata": {},
     "output_type": "execute_result"
    }
   ],
   "source": [
    "'This is one string. This is another string'.split('.')"
   ]
  },
  {
   "cell_type": "markdown",
   "id": "172473de",
   "metadata": {},
   "source": [
    "When we set one variable, B equal to A, both A and B are referencing the same list.\n",
    "Multiple names referring to the same object is known as aliasing."
   ]
  },
  {
   "cell_type": "code",
   "execution_count": 63,
   "id": "84b2be01",
   "metadata": {},
   "outputs": [
    {
     "data": {
      "text/plain": [
       "['hard rock', 10, 1.2]"
      ]
     },
     "execution_count": 63,
     "metadata": {},
     "output_type": "execute_result"
    }
   ],
   "source": [
    "A=['hard rock',10,1.2]\n",
    "B=A\n",
    "B"
   ]
  },
  {
   "cell_type": "code",
   "execution_count": 64,
   "id": "ba6fe146",
   "metadata": {},
   "outputs": [
    {
     "data": {
      "text/plain": [
       "['hard rock', 10, 1.2]"
      ]
     },
     "execution_count": 64,
     "metadata": {},
     "output_type": "execute_result"
    }
   ],
   "source": [
    "A"
   ]
  },
  {
   "cell_type": "markdown",
   "id": "c756fac3",
   "metadata": {},
   "source": [
    "We know that the first element in B is set as hard rock.\n",
    "If we change the first element in “A” to “banana” we get a side effect; the\n",
    "value of B will change as a consequence.\n",
    "\"A\" and “B” are referencing the same list, therefore if we change \"A“, list \"B\" also\n",
    "changes."
   ]
  },
  {
   "cell_type": "code",
   "execution_count": 65,
   "id": "eb85373c",
   "metadata": {},
   "outputs": [
    {
     "data": {
      "text/plain": [
       "['banana', 10, 1.2]"
      ]
     },
     "execution_count": 65,
     "metadata": {},
     "output_type": "execute_result"
    }
   ],
   "source": [
    "A[0]='banana'\n",
    "B"
   ]
  },
  {
   "cell_type": "markdown",
   "id": "859036af",
   "metadata": {},
   "source": [
    "You can clone list “A” by using the following syntax."
   ]
  },
  {
   "cell_type": "code",
   "execution_count": 66,
   "id": "254f108a",
   "metadata": {},
   "outputs": [
    {
     "data": {
      "text/plain": [
       "['banana', 10, 1.2]"
      ]
     },
     "execution_count": 66,
     "metadata": {},
     "output_type": "execute_result"
    }
   ],
   "source": [
    "C=A[:]\n",
    "C"
   ]
  },
  {
   "cell_type": "markdown",
   "id": "4be788d7",
   "metadata": {},
   "source": [
    "Variable \"A\" references one list.\n",
    "Variable “C” references a new copy or clone of the original list.\n",
    "Now if you change “A”, \"C\" will not change."
   ]
  },
  {
   "cell_type": "code",
   "execution_count": 67,
   "id": "2b8a635f",
   "metadata": {},
   "outputs": [
    {
     "data": {
      "text/plain": [
       "['hard rock', 10, 1.2]"
      ]
     },
     "execution_count": 67,
     "metadata": {},
     "output_type": "execute_result"
    }
   ],
   "source": [
    "A[0]='hard rock'\n",
    "A"
   ]
  },
  {
   "cell_type": "code",
   "execution_count": 68,
   "id": "6ca93741",
   "metadata": {},
   "outputs": [
    {
     "data": {
      "text/plain": [
       "['banana', 10, 1.2]"
      ]
     },
     "execution_count": 68,
     "metadata": {},
     "output_type": "execute_result"
    }
   ],
   "source": [
    "C"
   ]
  },
  {
   "cell_type": "markdown",
   "id": "a1c779e0",
   "metadata": {},
   "source": [
    "We can get more info on lists, tuples and many other objects in Python using the help\n",
    "command.\n",
    "Simply pass in the list, tuple or any other Python object."
   ]
  },
  {
   "cell_type": "code",
   "execution_count": 69,
   "id": "a3bffdda",
   "metadata": {},
   "outputs": [
    {
     "name": "stdout",
     "output_type": "stream",
     "text": [
      "Help on list object:\n",
      "\n",
      "class list(object)\n",
      " |  list(iterable=(), /)\n",
      " |  \n",
      " |  Built-in mutable sequence.\n",
      " |  \n",
      " |  If no argument is given, the constructor creates a new empty list.\n",
      " |  The argument must be an iterable if specified.\n",
      " |  \n",
      " |  Methods defined here:\n",
      " |  \n",
      " |  __add__(self, value, /)\n",
      " |      Return self+value.\n",
      " |  \n",
      " |  __contains__(self, key, /)\n",
      " |      Return key in self.\n",
      " |  \n",
      " |  __delitem__(self, key, /)\n",
      " |      Delete self[key].\n",
      " |  \n",
      " |  __eq__(self, value, /)\n",
      " |      Return self==value.\n",
      " |  \n",
      " |  __ge__(self, value, /)\n",
      " |      Return self>=value.\n",
      " |  \n",
      " |  __getattribute__(self, name, /)\n",
      " |      Return getattr(self, name).\n",
      " |  \n",
      " |  __getitem__(...)\n",
      " |      x.__getitem__(y) <==> x[y]\n",
      " |  \n",
      " |  __gt__(self, value, /)\n",
      " |      Return self>value.\n",
      " |  \n",
      " |  __iadd__(self, value, /)\n",
      " |      Implement self+=value.\n",
      " |  \n",
      " |  __imul__(self, value, /)\n",
      " |      Implement self*=value.\n",
      " |  \n",
      " |  __init__(self, /, *args, **kwargs)\n",
      " |      Initialize self.  See help(type(self)) for accurate signature.\n",
      " |  \n",
      " |  __iter__(self, /)\n",
      " |      Implement iter(self).\n",
      " |  \n",
      " |  __le__(self, value, /)\n",
      " |      Return self<=value.\n",
      " |  \n",
      " |  __len__(self, /)\n",
      " |      Return len(self).\n",
      " |  \n",
      " |  __lt__(self, value, /)\n",
      " |      Return self<value.\n",
      " |  \n",
      " |  __mul__(self, value, /)\n",
      " |      Return self*value.\n",
      " |  \n",
      " |  __ne__(self, value, /)\n",
      " |      Return self!=value.\n",
      " |  \n",
      " |  __repr__(self, /)\n",
      " |      Return repr(self).\n",
      " |  \n",
      " |  __reversed__(self, /)\n",
      " |      Return a reverse iterator over the list.\n",
      " |  \n",
      " |  __rmul__(self, value, /)\n",
      " |      Return value*self.\n",
      " |  \n",
      " |  __setitem__(self, key, value, /)\n",
      " |      Set self[key] to value.\n",
      " |  \n",
      " |  __sizeof__(self, /)\n",
      " |      Return the size of the list in memory, in bytes.\n",
      " |  \n",
      " |  append(self, object, /)\n",
      " |      Append object to the end of the list.\n",
      " |  \n",
      " |  clear(self, /)\n",
      " |      Remove all items from list.\n",
      " |  \n",
      " |  copy(self, /)\n",
      " |      Return a shallow copy of the list.\n",
      " |  \n",
      " |  count(self, value, /)\n",
      " |      Return number of occurrences of value.\n",
      " |  \n",
      " |  extend(self, iterable, /)\n",
      " |      Extend list by appending elements from the iterable.\n",
      " |  \n",
      " |  index(self, value, start=0, stop=9223372036854775807, /)\n",
      " |      Return first index of value.\n",
      " |      \n",
      " |      Raises ValueError if the value is not present.\n",
      " |  \n",
      " |  insert(self, index, object, /)\n",
      " |      Insert object before index.\n",
      " |  \n",
      " |  pop(self, index=-1, /)\n",
      " |      Remove and return item at index (default last).\n",
      " |      \n",
      " |      Raises IndexError if list is empty or index is out of range.\n",
      " |  \n",
      " |  remove(self, value, /)\n",
      " |      Remove first occurrence of value.\n",
      " |      \n",
      " |      Raises ValueError if the value is not present.\n",
      " |  \n",
      " |  reverse(self, /)\n",
      " |      Reverse *IN PLACE*.\n",
      " |  \n",
      " |  sort(self, /, *, key=None, reverse=False)\n",
      " |      Sort the list in ascending order and return None.\n",
      " |      \n",
      " |      The sort is in-place (i.e. the list itself is modified) and stable (i.e. the\n",
      " |      order of two equal elements is maintained).\n",
      " |      \n",
      " |      If a key function is given, apply it once to each list item and sort them,\n",
      " |      ascending or descending, according to their function values.\n",
      " |      \n",
      " |      The reverse flag can be set to sort in descending order.\n",
      " |  \n",
      " |  ----------------------------------------------------------------------\n",
      " |  Class methods defined here:\n",
      " |  \n",
      " |  __class_getitem__(...) from builtins.type\n",
      " |      See PEP 585\n",
      " |  \n",
      " |  ----------------------------------------------------------------------\n",
      " |  Static methods defined here:\n",
      " |  \n",
      " |  __new__(*args, **kwargs) from builtins.type\n",
      " |      Create and return a new object.  See help(type) for accurate signature.\n",
      " |  \n",
      " |  ----------------------------------------------------------------------\n",
      " |  Data and other attributes defined here:\n",
      " |  \n",
      " |  __hash__ = None\n",
      "\n"
     ]
    }
   ],
   "source": [
    "help(A)"
   ]
  },
  {
   "cell_type": "code",
   "execution_count": null,
   "id": "35575771",
   "metadata": {},
   "outputs": [],
   "source": []
  }
 ],
 "metadata": {
  "kernelspec": {
   "display_name": "Python 3 (ipykernel)",
   "language": "python",
   "name": "python3"
  },
  "language_info": {
   "codemirror_mode": {
    "name": "ipython",
    "version": 3
   },
   "file_extension": ".py",
   "mimetype": "text/x-python",
   "name": "python",
   "nbconvert_exporter": "python",
   "pygments_lexer": "ipython3",
   "version": "3.9.12"
  }
 },
 "nbformat": 4,
 "nbformat_minor": 5
}
