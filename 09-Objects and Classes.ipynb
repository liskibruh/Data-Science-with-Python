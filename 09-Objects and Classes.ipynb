{
 "cells": [
  {
   "cell_type": "markdown",
   "id": "9d70564d",
   "metadata": {},
   "source": [
    "# Objects and Classes"
   ]
  },
  {
   "cell_type": "markdown",
   "id": "e0ee922d",
   "metadata": {},
   "source": [
    "Python has many different kinds of data types: Integers, Floats, Strings, Lists, Dictionaries,\n",
    "Booleans. In Python each is an object."
   ]
  },
  {
   "cell_type": "markdown",
   "id": "02482dce",
   "metadata": {},
   "source": [
    "Every object has the following: a type, internal representation, a set of functions called\n",
    "methods to interact with the data. "
   ]
  },
  {
   "cell_type": "markdown",
   "id": "686938d0",
   "metadata": {},
   "source": [
    "An object is an instance of a particular type. For example, we have two types: type one and type two.\n",
    "We can have several objects of type one. Each object is an instance\n",
    "of type one. We also have several objects of type two."
   ]
  },
  {
   "cell_type": "markdown",
   "id": "1e3ac405",
   "metadata": {},
   "source": [
    " Every time we create an Integer, we are creating\n",
    "an instance of type integer, or we are creating an integer object. Similarly, every time we create a list, we are creating an instance of type list, or\n",
    "we are creating a list object. "
   ]
  },
  {
   "cell_type": "markdown",
   "id": "ddbbfd0f",
   "metadata": {},
   "source": [
    "Every time we create a list, we are creating an instance of type list, or\n",
    "we are creating a list object. In the following case, we are creating five instances\n",
    "of type list or five list objects."
   ]
  },
  {
   "cell_type": "code",
   "execution_count": 2,
   "id": "f0f409a2",
   "metadata": {},
   "outputs": [],
   "source": [
    "A=[1,32,4] #object 1\n",
    "B=['a','b','rdf'] #object 2\n",
    "C=['a',32,9] #object 3\n",
    "D=[False, True, True] #object 4\n",
    "E=[] #object 5"
   ]
  },
  {
   "cell_type": "markdown",
   "id": "10c6dc3b",
   "metadata": {},
   "source": [
    "We can do the same for any other type. We can find the type of object by using the command 'type'"
   ]
  },
  {
   "cell_type": "code",
   "execution_count": 3,
   "id": "3299b177",
   "metadata": {},
   "outputs": [
    {
     "data": {
      "text/plain": [
       "list"
      ]
     },
     "execution_count": 3,
     "metadata": {},
     "output_type": "execute_result"
    }
   ],
   "source": [
    "type(A)"
   ]
  },
  {
   "cell_type": "code",
   "execution_count": 4,
   "id": "86d13ccf",
   "metadata": {},
   "outputs": [
    {
     "data": {
      "text/plain": [
       "int"
      ]
     },
     "execution_count": 4,
     "metadata": {},
     "output_type": "execute_result"
    }
   ],
   "source": [
    "type(1)"
   ]
  },
  {
   "cell_type": "code",
   "execution_count": 5,
   "id": "497c9cea",
   "metadata": {},
   "outputs": [
    {
     "data": {
      "text/plain": [
       "str"
      ]
     },
     "execution_count": 5,
     "metadata": {},
     "output_type": "execute_result"
    }
   ],
   "source": [
    "type('the cat is yellow')"
   ]
  },
  {
   "cell_type": "code",
   "execution_count": 6,
   "id": "37eea591",
   "metadata": {},
   "outputs": [
    {
     "data": {
      "text/plain": [
       "dict"
      ]
     },
     "execution_count": 6,
     "metadata": {},
     "output_type": "execute_result"
    }
   ],
   "source": [
    "type({'dog':1, 'cat': 2})"
   ]
  },
  {
   "cell_type": "markdown",
   "id": "9e4845f3",
   "metadata": {},
   "source": [
    "## Methods\n",
    "A class or type’s methods are functions\n",
    "that every instance of that class or type provides.\n",
    "It’s how you interact with the object. "
   ]
  },
  {
   "cell_type": "markdown",
   "id": "57b6661a",
   "metadata": {},
   "source": [
    "We have been using methods all this time,\n",
    "for example, on lists. Sorting is an example of a method that interacts\n",
    "with the data in the object. Consider the list Ratings.\n",
    "The data is a series of numbers contained within the list.\n",
    "The method sort will change the data within the object"
   ]
  },
  {
   "cell_type": "code",
   "execution_count": 9,
   "id": "8a779a96",
   "metadata": {},
   "outputs": [
    {
     "data": {
      "text/plain": [
       "[2, 4, 6, 7, 10]"
      ]
     },
     "execution_count": 9,
     "metadata": {},
     "output_type": "execute_result"
    }
   ],
   "source": [
    "Ratings=[10,6,4,7,2]\n",
    "Ratings.sort() #method\n",
    "Ratings"
   ]
  },
  {
   "cell_type": "markdown",
   "id": "1ae397d1",
   "metadata": {},
   "source": [
    "We can call the reverse method on the list,\n",
    "changing the list again. We call the method, reversing the order of\n",
    "the sequence within the object."
   ]
  },
  {
   "cell_type": "code",
   "execution_count": 10,
   "id": "166923b3",
   "metadata": {},
   "outputs": [
    {
     "data": {
      "text/plain": [
       "[10, 7, 6, 4, 2]"
      ]
     },
     "execution_count": 10,
     "metadata": {},
     "output_type": "execute_result"
    }
   ],
   "source": [
    "Ratings.reverse()\n",
    "Ratings"
   ]
  },
  {
   "cell_type": "markdown",
   "id": "b6df094e",
   "metadata": {},
   "source": [
    "## Creating your own Type or Class: Defining Classes\n",
    "The class has data attributes. The class has methods.\n",
    "We then create an instance or instances of that class or objects.\n",
    "The class data attributes define the class."
   ]
  },
  {
   "cell_type": "markdown",
   "id": "c7efc4a8",
   "metadata": {},
   "source": [
    "Let's create two classes; the first class\n",
    "will be a circle, the second will be a rectangle."
   ]
  },
  {
   "cell_type": "markdown",
   "id": "27a224be",
   "metadata": {},
   "source": [
    "Let's think about what constitutes a circle.\n",
    "Examining this image all we need is a radius to define a circle and let's add color to\n",
    "make it easier to distinguish between different instances of the class later.\n",
    "Therefore, our class data attributes are radius and color."
   ]
  },
  {
   "cell_type": "markdown",
   "id": "e3e2dbcc",
   "metadata": {},
   "source": [
    "Similarly, examining the image in order to define a rectangle, we need the height and\n",
    "width. We will also add color to distinguish between\n",
    "instances later. Therefore, the data attributes are color,\n",
    "height, and width. "
   ]
  },
  {
   "cell_type": "code",
   "execution_count": 17,
   "id": "7ef131da",
   "metadata": {},
   "outputs": [],
   "source": [
    "class Circle(object):  #define class\n",
    "    def __init__(self,radius,color): #data attributes used ot initialize each instance of the class\n",
    "        self.radius=radius;\n",
    "        self.color=color;"
   ]
  },
  {
   "cell_type": "markdown",
   "id": "83a48a63",
   "metadata": {},
   "source": [
    "The function \"in-it\" is a constructor. It’s a special function that tells Python you are\n",
    "making a new class. The ‘radius’ and ‘color’ parameters\n",
    "are used to initialize the radius and color data attributes of the class instance. The ’self’ parameter refers to the newly created instance of the class."
   ]
  },
  {
   "cell_type": "markdown",
   "id": "1516ddb9",
   "metadata": {},
   "source": [
    "The parameters ’radius’ and ’color’ can be used in the constructor’s body to\n",
    "access the values passed to the class constructor when the class is constructed."
   ]
  },
  {
   "cell_type": "markdown",
   "id": "b119e0e6",
   "metadata": {},
   "source": [
    "Similarly, we can define the class Rectangle"
   ]
  },
  {
   "cell_type": "code",
   "execution_count": 16,
   "id": "e1415bf0",
   "metadata": {},
   "outputs": [],
   "source": [
    "class Rectangle(object):  #define class\n",
    "    def __init__(self,height,width,color): #data attributes used ot initialize each instance of the class\n",
    "        self.height=height;\n",
    "        self.width=width;\n",
    "        self.color=color;"
   ]
  },
  {
   "cell_type": "markdown",
   "id": "538e63f5",
   "metadata": {},
   "source": [
    "After we have created the class, in order to create an object of class circle, we introduce\n",
    "a variable; this will be the name of the object. We create the object by using the object constructor."
   ]
  },
  {
   "cell_type": "code",
   "execution_count": 21,
   "id": "9c5da4c5",
   "metadata": {},
   "outputs": [],
   "source": [
    "C1=Circle(10,'red')"
   ]
  },
  {
   "cell_type": "markdown",
   "id": "f76beb60",
   "metadata": {},
   "source": [
    "Circle(10,'red') is the object constructor.The object constructor consists of the name of the class, as well as the data attributes."
   ]
  },
  {
   "cell_type": "markdown",
   "id": "d5380cd7",
   "metadata": {},
   "source": [
    "When we create a Circle object we call the\n",
    "code like a function. The arguments passed to the Circle constructor\n",
    "are used to initialize the data attributes of the newly created Circle instance."
   ]
  },
  {
   "cell_type": "markdown",
   "id": "fcea64fd",
   "metadata": {},
   "source": [
    "It is helpful to think of self as a box that contains all the data attributes of the object."
   ]
  },
  {
   "cell_type": "markdown",
   "id": "4dfe36b5",
   "metadata": {},
   "source": [
    "Typing the object's name followed by a dot and the data attribute name gives us the data\n",
    "attribute value."
   ]
  },
  {
   "cell_type": "code",
   "execution_count": 22,
   "id": "8a33c9a8",
   "metadata": {},
   "outputs": [
    {
     "data": {
      "text/plain": [
       "10"
      ]
     },
     "execution_count": 22,
     "metadata": {},
     "output_type": "execute_result"
    }
   ],
   "source": [
    "C1.radius"
   ]
  },
  {
   "cell_type": "code",
   "execution_count": 23,
   "id": "6b12627a",
   "metadata": {},
   "outputs": [
    {
     "data": {
      "text/plain": [
       "'red'"
      ]
     },
     "execution_count": 23,
     "metadata": {},
     "output_type": "execute_result"
    }
   ],
   "source": [
    "C1.color"
   ]
  },
  {
   "cell_type": "markdown",
   "id": "dde46b47",
   "metadata": {},
   "source": [
    " We can see the relationship between the self\n",
    "parameter and the object, C1."
   ]
  },
  {
   "cell_type": "markdown",
   "id": "d708ff50",
   "metadata": {},
   "source": [
    "In Python, we can also set or change the data\n",
    "attribute directly. "
   ]
  },
  {
   "cell_type": "code",
   "execution_count": 24,
   "id": "2c11a9a0",
   "metadata": {},
   "outputs": [
    {
     "data": {
      "text/plain": [
       "'blue'"
      ]
     },
     "execution_count": 24,
     "metadata": {},
     "output_type": "execute_result"
    }
   ],
   "source": [
    "C1.color='blue'\n",
    "\n",
    "C1.color"
   ]
  },
  {
   "cell_type": "code",
   "execution_count": 27,
   "id": "d9d050eb",
   "metadata": {},
   "outputs": [
    {
     "data": {
      "text/plain": [
       "4"
      ]
     },
     "execution_count": 27,
     "metadata": {},
     "output_type": "execute_result"
    }
   ],
   "source": [
    "R1=Rectangle(4,2,'white') #object of class Rectangle\n",
    "\n",
    "R1.height"
   ]
  },
  {
   "cell_type": "markdown",
   "id": "03bdf78e",
   "metadata": {},
   "source": [
    "## Creating Methods\n",
    " Methods are functions that interact and change\n",
    "the data attributes, changing or using the data attributes of the object."
   ]
  },
  {
   "cell_type": "markdown",
   "id": "2190fb09",
   "metadata": {},
   "source": [
    "Let's say we would like to change the size of a circle; this involves changing the radius\n",
    "attribute. We add a method \"add radius\" to the class\n",
    "Circle."
   ]
  },
  {
   "cell_type": "code",
   "execution_count": 30,
   "id": "0eb4e2d8",
   "metadata": {},
   "outputs": [],
   "source": [
    "class Circle(object):  #define class\n",
    "    def __init__(self,radius,color): #data attributes used ot initialize each instance of the class\n",
    "        self.radius=radius;\n",
    "        self.color=color;\n",
    "    def add_radius(self,r):\n",
    "        self.radius=self.radius+r\n",
    "        return(self.radius)"
   ]
  },
  {
   "cell_type": "code",
   "execution_count": 31,
   "id": "a2d11016",
   "metadata": {},
   "outputs": [
    {
     "data": {
      "text/plain": [
       "10"
      ]
     },
     "execution_count": 31,
     "metadata": {},
     "output_type": "execute_result"
    }
   ],
   "source": [
    "C1=Circle(10,'red')\n",
    "C1.radius"
   ]
  },
  {
   "cell_type": "code",
   "execution_count": 32,
   "id": "48d928c7",
   "metadata": {},
   "outputs": [
    {
     "data": {
      "text/plain": [
       "18"
      ]
     },
     "execution_count": 32,
     "metadata": {},
     "output_type": "execute_result"
    }
   ],
   "source": [
    "C1.add_radius(8)\n",
    "C1.radius"
   ]
  }
 ],
 "metadata": {
  "kernelspec": {
   "display_name": "Python 3 (ipykernel)",
   "language": "python",
   "name": "python3"
  },
  "language_info": {
   "codemirror_mode": {
    "name": "ipython",
    "version": 3
   },
   "file_extension": ".py",
   "mimetype": "text/x-python",
   "name": "python",
   "nbconvert_exporter": "python",
   "pygments_lexer": "ipython3",
   "version": "3.9.12"
  }
 },
 "nbformat": 4,
 "nbformat_minor": 5
}
