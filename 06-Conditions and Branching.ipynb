{
 "cells": [
  {
   "cell_type": "markdown",
   "id": "2054d1b0",
   "metadata": {},
   "source": [
    "# Conditions and Branching\n",
    "Comparison operations compare some value or operand, then, based on some condition they\n",
    "produce a Boolean."
   ]
  },
  {
   "cell_type": "markdown",
   "id": "5c570305",
   "metadata": {},
   "source": [
    "## Conditions\n",
    "Let's say we assign \"a\" value of “a” to 6.\n",
    "We can use the equality operator denoted with two equal signs to determine if two values\n",
    "are equal, in this case, if seven is equal to 6.\n",
    "In this case, as six is not equal to 7, the result is false."
   ]
  },
  {
   "cell_type": "code",
   "execution_count": 1,
   "id": "e24b6d86",
   "metadata": {},
   "outputs": [
    {
     "data": {
      "text/plain": [
       "False"
      ]
     },
     "execution_count": 1,
     "metadata": {},
     "output_type": "execute_result"
    }
   ],
   "source": [
    "a=6\n",
    "\n",
    "a==7"
   ]
  },
  {
   "cell_type": "code",
   "execution_count": 2,
   "id": "c320e2ec",
   "metadata": {},
   "outputs": [
    {
     "data": {
      "text/plain": [
       "True"
      ]
     },
     "execution_count": 2,
     "metadata": {},
     "output_type": "execute_result"
    }
   ],
   "source": [
    "a==6"
   ]
  },
  {
   "cell_type": "markdown",
   "id": "a3f63b0c",
   "metadata": {},
   "source": [
    "Consider the following equality comparison operator.\n",
    "If the value of the left operand, in this case, the variable “i” is greater than\n",
    "the value of the right operand, in this case, 5, the condition becomes true, or else we\n",
    "get a false."
   ]
  },
  {
   "cell_type": "code",
   "execution_count": 3,
   "id": "46bdc68a",
   "metadata": {},
   "outputs": [
    {
     "data": {
      "text/plain": [
       "True"
      ]
     },
     "execution_count": 3,
     "metadata": {},
     "output_type": "execute_result"
    }
   ],
   "source": [
    "i=6\n",
    "\n",
    "i>5"
   ]
  },
  {
   "cell_type": "code",
   "execution_count": 4,
   "id": "619ca53e",
   "metadata": {},
   "outputs": [
    {
     "data": {
      "text/plain": [
       "False"
      ]
     },
     "execution_count": 4,
     "metadata": {},
     "output_type": "execute_result"
    }
   ],
   "source": [
    "i>6"
   ]
  },
  {
   "cell_type": "markdown",
   "id": "0ec15c1f",
   "metadata": {},
   "source": [
    "If we modify the operator as follows, if the left operand “i” is greater than or equal\n",
    "to the value of the right operand, in this case, 5, then the condition becomes true."
   ]
  },
  {
   "cell_type": "code",
   "execution_count": 5,
   "id": "de3a32e6",
   "metadata": {},
   "outputs": [
    {
     "data": {
      "text/plain": [
       "True"
      ]
     },
     "execution_count": 5,
     "metadata": {},
     "output_type": "execute_result"
    }
   ],
   "source": [
    "i>=5"
   ]
  },
  {
   "cell_type": "code",
   "execution_count": 6,
   "id": "35160f57",
   "metadata": {},
   "outputs": [
    {
     "data": {
      "text/plain": [
       "True"
      ]
     },
     "execution_count": 6,
     "metadata": {},
     "output_type": "execute_result"
    }
   ],
   "source": [
    "i>=6"
   ]
  },
  {
   "cell_type": "code",
   "execution_count": 7,
   "id": "addd9947",
   "metadata": {},
   "outputs": [
    {
     "data": {
      "text/plain": [
       "False"
      ]
     },
     "execution_count": 7,
     "metadata": {},
     "output_type": "execute_result"
    }
   ],
   "source": [
    "i=2\n",
    "\n",
    "i>=5"
   ]
  },
  {
   "cell_type": "code",
   "execution_count": 8,
   "id": "ad633a97",
   "metadata": {},
   "outputs": [
    {
     "data": {
      "text/plain": [
       "True"
      ]
     },
     "execution_count": 8,
     "metadata": {},
     "output_type": "execute_result"
    }
   ],
   "source": [
    "i<6"
   ]
  },
  {
   "cell_type": "code",
   "execution_count": 9,
   "id": "ccacd3fb",
   "metadata": {},
   "outputs": [
    {
     "data": {
      "text/plain": [
       "False"
      ]
     },
     "execution_count": 9,
     "metadata": {},
     "output_type": "execute_result"
    }
   ],
   "source": [
    "i<2"
   ]
  },
  {
   "cell_type": "markdown",
   "id": "991e2e09",
   "metadata": {},
   "source": [
    "The inequality test uses an explanation mark preceding the equal sign, if two operands\n",
    "are not equal, then the condition becomes true."
   ]
  },
  {
   "cell_type": "code",
   "execution_count": 11,
   "id": "ee8628ac",
   "metadata": {},
   "outputs": [
    {
     "data": {
      "text/plain": [
       "True"
      ]
     },
     "execution_count": 11,
     "metadata": {},
     "output_type": "execute_result"
    }
   ],
   "source": [
    "i!=6 # i is not equal to 6"
   ]
  },
  {
   "cell_type": "code",
   "execution_count": 12,
   "id": "b5669654",
   "metadata": {},
   "outputs": [
    {
     "data": {
      "text/plain": [
       "False"
      ]
     },
     "execution_count": 12,
     "metadata": {},
     "output_type": "execute_result"
    }
   ],
   "source": [
    "i!=2"
   ]
  },
  {
   "cell_type": "markdown",
   "id": "7e5f7bcd",
   "metadata": {},
   "source": [
    "We compare strings as well.\n",
    "Comparing “AC/DC” and “Michael Jackson” using the equality test, we get a false, as\n",
    "the strings are not the same."
   ]
  },
  {
   "cell_type": "code",
   "execution_count": 13,
   "id": "1ee6e5e0",
   "metadata": {},
   "outputs": [
    {
     "data": {
      "text/plain": [
       "False"
      ]
     },
     "execution_count": 13,
     "metadata": {},
     "output_type": "execute_result"
    }
   ],
   "source": [
    "'AC/DC'== 'Michael Jackson'"
   ]
  },
  {
   "cell_type": "code",
   "execution_count": 14,
   "id": "c70bb26d",
   "metadata": {},
   "outputs": [
    {
     "data": {
      "text/plain": [
       "True"
      ]
     },
     "execution_count": 14,
     "metadata": {},
     "output_type": "execute_result"
    }
   ],
   "source": [
    "'AC/DC'!= 'Michael Jackson'"
   ]
  },
  {
   "cell_type": "markdown",
   "id": "825dc770",
   "metadata": {},
   "source": [
    "## Branching\n",
    "Branching allows us to run different statements for a different input."
   ]
  },
  {
   "cell_type": "markdown",
   "id": "1a97bb7c",
   "metadata": {},
   "source": [
    "### if\n",
    "It's helpful to think of an “if statement” as a locked room:\n",
    "If the statement is true, you can enter the room, and your program can run some predefined\n",
    "task.\n",
    "If the statement is false, your program will skip the task."
   ]
  },
  {
   "cell_type": "markdown",
   "id": "623b0c2f",
   "metadata": {},
   "source": [
    "For example, consider the blue rectangle representing an ACDC concert.\n",
    "If the individual is 18 or older, they can enter the ACDC concert.\n",
    "If they are under the age of 18, they cannot enter the concert.\n",
    "Individual proceeds to the concert, their age is 17, therefore they are not granted access to the concert, and they must move on."
   ]
  },
  {
   "cell_type": "code",
   "execution_count": 15,
   "id": "0f6cb9ef",
   "metadata": {},
   "outputs": [
    {
     "name": "stdout",
     "output_type": "stream",
     "text": [
      "move on\n"
     ]
    }
   ],
   "source": [
    "age=17\n",
    "\n",
    "if(age>18):\n",
    "    print('you can enter')\n",
    "\n",
    "print('move on')"
   ]
  },
  {
   "cell_type": "markdown",
   "id": "b259efe8",
   "metadata": {},
   "source": [
    "Within an indent, we have the expression that is run if the condition is true.\n",
    "The statements after the if statement will run regardless if the condition is true or\n",
    "false."
   ]
  },
  {
   "cell_type": "markdown",
   "id": "aa0048c2",
   "metadata": {},
   "source": [
    "For the case where the age is 19, we set the value of the variable age to 19.\n",
    "We check the if statement.\n",
    "The statement is true, therefore, the program will execute the statement to print “you\n",
    "will enter.”\n",
    "Then it will just print “move on.”"
   ]
  },
  {
   "cell_type": "code",
   "execution_count": 16,
   "id": "7ba9fada",
   "metadata": {},
   "outputs": [
    {
     "name": "stdout",
     "output_type": "stream",
     "text": [
      "you can enter\n",
      "move on\n"
     ]
    }
   ],
   "source": [
    "age=19\n",
    "\n",
    "if(age>18):\n",
    "    print('you can enter')\n",
    "\n",
    "print('move on')"
   ]
  },
  {
   "cell_type": "markdown",
   "id": "54eb06b7",
   "metadata": {},
   "source": [
    "### else\n",
    "Let’s use the ACDC concert analogy again; if the user is 17, they cannot go to the ACDC\n",
    "concert, but they can go to the Meat Loaf concert represented by the purple square.\n",
    "If the individual is 19, the condition is true.\n",
    "They can enter the ACDC concert, then they can move on as before."
   ]
  },
  {
   "cell_type": "code",
   "execution_count": 19,
   "id": "be92a60a",
   "metadata": {},
   "outputs": [
    {
     "name": "stdout",
     "output_type": "stream",
     "text": [
      "you can enter\n",
      "move on\n"
     ]
    }
   ],
   "source": [
    "if (age>18):\n",
    "    print('you can enter')\n",
    "else:\n",
    "    print('go see Meet Loaf')\n",
    "\n",
    "print('move on')"
   ]
  },
  {
   "cell_type": "code",
   "execution_count": 20,
   "id": "63d3a1d9",
   "metadata": {},
   "outputs": [
    {
     "name": "stdout",
     "output_type": "stream",
     "text": [
      "go see Meet Loaf\n",
      "move on\n"
     ]
    }
   ],
   "source": [
    "age=17\n",
    "if (age>18):\n",
    "    print('you can enter')\n",
    "else:\n",
    "    print('go see Meet Loaf')\n",
    "\n",
    "print('move on')"
   ]
  },
  {
   "cell_type": "markdown",
   "id": "0aacd553",
   "metadata": {},
   "source": [
    "### elif\n",
    "The elif statement, short for “else if,” allows us to check additional conditions,\n",
    "if the proceeding condition is false.\n",
    "If the condition is true, the alternate expressions will be run."
   ]
  },
  {
   "cell_type": "markdown",
   "id": "07c5ac0a",
   "metadata": {},
   "source": [
    "Consider the concert example, if the individual is 18, they will go to the Pink Floyd concert,\n",
    "instead of attending the ACDC or Meat Loaf concert.\n",
    "The person of 18 years of age enters the area as they are not over 19 years of age.\n",
    "They cannot see ACDC, but as they are 18 years, they attend Pink Floyd.\n",
    "After seeing Pink Floyd, they move on."
   ]
  },
  {
   "cell_type": "code",
   "execution_count": 21,
   "id": "0bad98ef",
   "metadata": {},
   "outputs": [
    {
     "name": "stdout",
     "output_type": "stream",
     "text": [
      "go see Pink Floyd\n",
      "move on\n"
     ]
    }
   ],
   "source": [
    "age=18\n",
    "\n",
    "if(age>18):\n",
    "    print('you can enter')\n",
    "elif(age==18):\n",
    "    print('go see Pink Floyd')\n",
    "else:\n",
    "    print('go see Meat Loaf')\n",
    "\n",
    "print('move on')"
   ]
  },
  {
   "cell_type": "code",
   "execution_count": 22,
   "id": "83260ea5",
   "metadata": {},
   "outputs": [
    {
     "name": "stdout",
     "output_type": "stream",
     "text": [
      "you can enter\n",
      "move on\n"
     ]
    }
   ],
   "source": [
    "age=19\n",
    "\n",
    "if(age>18):\n",
    "    print('you can enter')\n",
    "elif(age==18):\n",
    "    print('go see Pink Floyd')\n",
    "else:\n",
    "    print('go see Meat Loaf')\n",
    "\n",
    "print('move on')"
   ]
  },
  {
   "cell_type": "markdown",
   "id": "05f03bdf",
   "metadata": {},
   "source": [
    "## Logic Operators\n",
    "Logic operations take Boolean values and produce different Boolean values."
   ]
  },
  {
   "cell_type": "markdown",
   "id": "087c26cc",
   "metadata": {},
   "source": [
    "### not"
   ]
  },
  {
   "cell_type": "markdown",
   "id": "0f55177d",
   "metadata": {},
   "source": [
    "The first operation is the not operator.\n",
    "If the input is true, the result is a false.\n",
    "Similarly, if the input is false, the result is a true"
   ]
  },
  {
   "cell_type": "code",
   "execution_count": 26,
   "id": "8dc47797",
   "metadata": {},
   "outputs": [
    {
     "data": {
      "text/plain": [
       "True"
      ]
     },
     "execution_count": 26,
     "metadata": {},
     "output_type": "execute_result"
    }
   ],
   "source": [
    "not(False)"
   ]
  },
  {
   "cell_type": "code",
   "execution_count": 27,
   "id": "9d453b9d",
   "metadata": {},
   "outputs": [
    {
     "data": {
      "text/plain": [
       "False"
      ]
     },
     "execution_count": 27,
     "metadata": {},
     "output_type": "execute_result"
    }
   ],
   "source": [
    "not(True)"
   ]
  },
  {
   "cell_type": "markdown",
   "id": "caff1c9b",
   "metadata": {},
   "source": [
    "### or"
   ]
  },
  {
   "cell_type": "markdown",
   "id": "452c80f6",
   "metadata": {},
   "source": [
    "The following lines of code will print out: “This album was made in the 70's or 90's”\n",
    "if the variable album year does not fall in the 80s."
   ]
  },
  {
   "cell_type": "code",
   "execution_count": 31,
   "id": "17c8b2dc",
   "metadata": {},
   "outputs": [
    {
     "name": "stdout",
     "output_type": "stream",
     "text": [
      "This album was made in the 70's or 90's\n"
     ]
    }
   ],
   "source": [
    "album_year=1990\n",
    "\n",
    "if(album_year<1980) or (album_year>1989):\n",
    "    print(\"This album was made in the 70's or 90's\")\n",
    "else:\n",
    "    print(\"The album was made in 1980's\")"
   ]
  },
  {
   "cell_type": "code",
   "execution_count": 32,
   "id": "163e4ddc",
   "metadata": {},
   "outputs": [
    {
     "name": "stdout",
     "output_type": "stream",
     "text": [
      "The album was made in 1980's\n"
     ]
    }
   ],
   "source": [
    "album_year=1985\n",
    "\n",
    "if(album_year<1980) or (album_year>1989):\n",
    "    print(\"This album was made in the 70's or 90's\")\n",
    "else:\n",
    "    print(\"The album was made in 1980's\")"
   ]
  },
  {
   "cell_type": "markdown",
   "id": "6c02fa10",
   "metadata": {},
   "source": [
    "### and"
   ]
  },
  {
   "cell_type": "markdown",
   "id": "5f2d8f82",
   "metadata": {},
   "source": [
    "The following lines of code will print out: “This album was made in the 80’s” if\n",
    "the variable album year is between 1980 and 1989.\n",
    "Let's see what happens when we set the album year to 1983."
   ]
  },
  {
   "cell_type": "code",
   "execution_count": 35,
   "id": "81718a92",
   "metadata": {},
   "outputs": [
    {
     "name": "stdout",
     "output_type": "stream",
     "text": [
      "This album was made in the 80's\n"
     ]
    }
   ],
   "source": [
    "album_year=1983\n",
    "\n",
    "if(album_year>1979) and (album_year<1990):\n",
    "    print(\"This album was made in the 80's\")\n",
    "else:\n",
    "    print(\"The album was not made in the 80's\")"
   ]
  },
  {
   "cell_type": "code",
   "execution_count": 36,
   "id": "f5b45b9d",
   "metadata": {},
   "outputs": [
    {
     "name": "stdout",
     "output_type": "stream",
     "text": [
      "The album was not made in the 80's\n"
     ]
    }
   ],
   "source": [
    "album_year=1995\n",
    "\n",
    "if(album_year>1979) and (album_year<1990):\n",
    "    print(\"This album was made in the 80's\")\n",
    "else:\n",
    "    print(\"The album was not made in the 80's\")"
   ]
  }
 ],
 "metadata": {
  "kernelspec": {
   "display_name": "Python 3 (ipykernel)",
   "language": "python",
   "name": "python3"
  },
  "language_info": {
   "codemirror_mode": {
    "name": "ipython",
    "version": 3
   },
   "file_extension": ".py",
   "mimetype": "text/x-python",
   "name": "python",
   "nbconvert_exporter": "python",
   "pygments_lexer": "ipython3",
   "version": "3.9.12"
  }
 },
 "nbformat": 4,
 "nbformat_minor": 5
}
