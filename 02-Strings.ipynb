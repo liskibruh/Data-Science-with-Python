{
 "cells": [
  {
   "cell_type": "markdown",
   "id": "1c08c6f7",
   "metadata": {},
   "source": [
    "# Strings\n",
    "In Python, a string is a sequence of characters. A string is contained within two quotes:\n",
    "You could also use single quotes. A string can be spaces, or digits.\n",
    "A string can also be special characters. We can bind or assign a string to another"
   ]
  },
  {
   "cell_type": "code",
   "execution_count": 2,
   "id": "33c62208",
   "metadata": {},
   "outputs": [
    {
     "data": {
      "text/plain": [
       "'Michael Jackson'"
      ]
     },
     "execution_count": 2,
     "metadata": {},
     "output_type": "execute_result"
    }
   ],
   "source": [
    "name='Michael Jackson'\n",
    "name"
   ]
  },
  {
   "cell_type": "markdown",
   "id": "9d61d1f5",
   "metadata": {},
   "source": [
    "It is helpful to think of a string as an ordered\n",
    "sequence. Each element in the sequence can be accessed\n",
    "using an index represented by the array of numbers."
   ]
  },
  {
   "cell_type": "code",
   "execution_count": 3,
   "id": "30627aa6",
   "metadata": {},
   "outputs": [
    {
     "data": {
      "text/plain": [
       "'M'"
      ]
     },
     "execution_count": 3,
     "metadata": {},
     "output_type": "execute_result"
    }
   ],
   "source": [
    "name[0]"
   ]
  },
  {
   "cell_type": "code",
   "execution_count": 4,
   "id": "c708d393",
   "metadata": {},
   "outputs": [
    {
     "data": {
      "text/plain": [
       "'l'"
      ]
     },
     "execution_count": 4,
     "metadata": {},
     "output_type": "execute_result"
    }
   ],
   "source": [
    "name[6]"
   ]
  },
  {
   "cell_type": "code",
   "execution_count": 6,
   "id": "a438f31b",
   "metadata": {},
   "outputs": [
    {
     "data": {
      "text/plain": [
       "'n'"
      ]
     },
     "execution_count": 6,
     "metadata": {},
     "output_type": "execute_result"
    }
   ],
   "source": [
    "name[14]"
   ]
  },
  {
   "cell_type": "markdown",
   "id": "3daf6ad2",
   "metadata": {},
   "source": [
    "We can also use negative indexing with strings.\n",
    "The last element is given by the index -1. The first element can be obtained by index\n",
    "-15, and so on."
   ]
  },
  {
   "cell_type": "code",
   "execution_count": 7,
   "id": "27c38962",
   "metadata": {},
   "outputs": [
    {
     "data": {
      "text/plain": [
       "'n'"
      ]
     },
     "execution_count": 7,
     "metadata": {},
     "output_type": "execute_result"
    }
   ],
   "source": [
    "name[-1]"
   ]
  },
  {
   "cell_type": "code",
   "execution_count": 8,
   "id": "9a07ee00",
   "metadata": {},
   "outputs": [
    {
     "data": {
      "text/plain": [
       "'M'"
      ]
     },
     "execution_count": 8,
     "metadata": {},
     "output_type": "execute_result"
    }
   ],
   "source": [
    "name[-15]"
   ]
  },
  {
   "cell_type": "markdown",
   "id": "d7ffba72",
   "metadata": {},
   "source": [
    "## Strings: Slicing"
   ]
  },
  {
   "cell_type": "markdown",
   "id": "87ca4e22",
   "metadata": {},
   "source": [
    "We can bind a string to another variable. It is helpful to think of string as a list or tuple.\n",
    "We can treat the string as a sequence and perform sequence operations."
   ]
  },
  {
   "cell_type": "code",
   "execution_count": 12,
   "id": "e023ab9b",
   "metadata": {},
   "outputs": [
    {
     "data": {
      "text/plain": [
       "'Michael'"
      ]
     },
     "execution_count": 12,
     "metadata": {},
     "output_type": "execute_result"
    }
   ],
   "source": [
    "name[0:7]"
   ]
  },
  {
   "cell_type": "code",
   "execution_count": 13,
   "id": "0ef36d9d",
   "metadata": {},
   "outputs": [
    {
     "data": {
      "text/plain": [
       "'Jack'"
      ]
     },
     "execution_count": 13,
     "metadata": {},
     "output_type": "execute_result"
    }
   ],
   "source": [
    "name[8:12]"
   ]
  },
  {
   "cell_type": "markdown",
   "id": "ed728d4d",
   "metadata": {},
   "source": [
    "## Strings: Stride"
   ]
  },
  {
   "cell_type": "code",
   "execution_count": 14,
   "id": "63903b9f",
   "metadata": {},
   "outputs": [
    {
     "data": {
      "text/plain": [
       "'McalJcsn'"
      ]
     },
     "execution_count": 14,
     "metadata": {},
     "output_type": "execute_result"
    }
   ],
   "source": [
    "name[::2]"
   ]
  },
  {
   "cell_type": "markdown",
   "id": "bce43539",
   "metadata": {},
   "source": [
    "The 2 indicates we select every second variable."
   ]
  },
  {
   "cell_type": "markdown",
   "id": "0c87fa21",
   "metadata": {},
   "source": [
    "We can also incorporate slicing."
   ]
  },
  {
   "cell_type": "code",
   "execution_count": 15,
   "id": "fb8b709b",
   "metadata": {},
   "outputs": [
    {
     "data": {
      "text/plain": [
       "'Mca'"
      ]
     },
     "execution_count": 15,
     "metadata": {},
     "output_type": "execute_result"
    }
   ],
   "source": [
    "name[0:5:2]"
   ]
  },
  {
   "cell_type": "markdown",
   "id": "ca3ac062",
   "metadata": {},
   "source": [
    "In this case. we return every second value\n",
    "up to index four."
   ]
  },
  {
   "cell_type": "markdown",
   "id": "340d0ee3",
   "metadata": {},
   "source": [
    " We can use the “len” command to obtain"
   ]
  },
  {
   "cell_type": "code",
   "execution_count": 18,
   "id": "7545cb74",
   "metadata": {},
   "outputs": [
    {
     "data": {
      "text/plain": [
       "15"
      ]
     },
     "execution_count": 18,
     "metadata": {},
     "output_type": "execute_result"
    }
   ],
   "source": [
    "len('Michael Jackson')"
   ]
  },
  {
   "cell_type": "code",
   "execution_count": 19,
   "id": "77a727ca",
   "metadata": {},
   "outputs": [
    {
     "data": {
      "text/plain": [
       "15"
      ]
     },
     "execution_count": 19,
     "metadata": {},
     "output_type": "execute_result"
    }
   ],
   "source": [
    "len(name)"
   ]
  },
  {
   "cell_type": "markdown",
   "id": "1eeb2256",
   "metadata": {},
   "source": [
    "## Concatenate or Combine Strings"
   ]
  },
  {
   "cell_type": "code",
   "execution_count": 20,
   "id": "a6238fd2",
   "metadata": {},
   "outputs": [
    {
     "data": {
      "text/plain": [
       "'Michael Jackson is the best'"
      ]
     },
     "execution_count": 20,
     "metadata": {},
     "output_type": "execute_result"
    }
   ],
   "source": [
    "name='Michael Jackson'\n",
    "statement=name+' is the best'\n",
    "\n",
    "statement"
   ]
  },
  {
   "cell_type": "markdown",
   "id": "46093f18",
   "metadata": {},
   "source": [
    "We can replicate values of a string. We simply multiply the string by the number"
   ]
  },
  {
   "cell_type": "code",
   "execution_count": 24,
   "id": "75da2b0b",
   "metadata": {},
   "outputs": [
    {
     "data": {
      "text/plain": [
       "'Michael JacksonMichael JacksonMichael Jackson'"
      ]
     },
     "execution_count": 24,
     "metadata": {},
     "output_type": "execute_result"
    }
   ],
   "source": [
    "3*'Michael Jackson'"
   ]
  },
  {
   "cell_type": "code",
   "execution_count": 25,
   "id": "e4bf60cc",
   "metadata": {},
   "outputs": [
    {
     "data": {
      "text/plain": [
       "'Michael JacksonMichael JacksonMichael Jackson'"
      ]
     },
     "execution_count": 25,
     "metadata": {},
     "output_type": "execute_result"
    }
   ],
   "source": [
    "3*name"
   ]
  },
  {
   "cell_type": "markdown",
   "id": "fe3733f4",
   "metadata": {},
   "source": [
    "## Strings: Escape Sequences"
   ]
  },
  {
   "cell_type": "code",
   "execution_count": 26,
   "id": "f3f30a3c",
   "metadata": {},
   "outputs": [
    {
     "name": "stdout",
     "output_type": "stream",
     "text": [
      "Michael Jackson \n",
      " is the best\n"
     ]
    }
   ],
   "source": [
    "print('Michael Jackson \\n is the best')"
   ]
  },
  {
   "cell_type": "code",
   "execution_count": 27,
   "id": "7cf873d9",
   "metadata": {},
   "outputs": [
    {
     "name": "stdout",
     "output_type": "stream",
     "text": [
      "Michael Jackson \t is the best\n"
     ]
    }
   ],
   "source": [
    "print('Michael Jackson \\t is the best')"
   ]
  },
  {
   "cell_type": "code",
   "execution_count": 28,
   "id": "4e36190b",
   "metadata": {},
   "outputs": [
    {
     "name": "stdout",
     "output_type": "stream",
     "text": [
      "Michael Jackson \\ is the best\n"
     ]
    }
   ],
   "source": [
    "print('Michael Jackson \\\\ is the best')"
   ]
  },
  {
   "cell_type": "code",
   "execution_count": 29,
   "id": "6e63f62c",
   "metadata": {},
   "outputs": [
    {
     "name": "stdout",
     "output_type": "stream",
     "text": [
      "Michael Jackson \\ is the best\n"
     ]
    }
   ],
   "source": [
    "print(r'Michael Jackson \\ is the best')"
   ]
  },
  {
   "cell_type": "markdown",
   "id": "638f5aaa",
   "metadata": {},
   "source": [
    "## String Methods"
   ]
  },
  {
   "cell_type": "markdown",
   "id": "da854b56",
   "metadata": {},
   "source": [
    "Strings are sequences and, as such, have apply\n",
    "methods that work on lists and tuples. Strings also have a second set of methods\n",
    "that just work on strings. When we apply a method to the string \"A”,\n",
    "we get a new string “B\" that is different from \"A\".\n",
    "Let’s do some examples. "
   ]
  },
  {
   "cell_type": "markdown",
   "id": "077c31c5",
   "metadata": {},
   "source": [
    "We apply the method \"upper\" and set it equal to \"B“.\n",
    "The value for B is similar to \"A\" but all the characters are uppercase.\n",
    "The method replaces a segment of the string, i.e., a substring with a new string."
   ]
  },
  {
   "cell_type": "code",
   "execution_count": 31,
   "id": "cb23519f",
   "metadata": {},
   "outputs": [
    {
     "data": {
      "text/plain": [
       "'THRILLER IS THE SIXTH STUDIO ALBUM'"
      ]
     },
     "execution_count": 31,
     "metadata": {},
     "output_type": "execute_result"
    }
   ],
   "source": [
    "A='Thriller is the sixth studio album'\n",
    "B=A.upper()\n",
    "\n",
    "B"
   ]
  },
  {
   "cell_type": "markdown",
   "id": "4f4a6fcf",
   "metadata": {},
   "source": [
    "The method replaces a segment of the string, i.e., a substring with a new string.\n",
    "We input the part of the string we would like to change.\n",
    "The second argument is what we would like to exchange the segment with."
   ]
  },
  {
   "cell_type": "code",
   "execution_count": 32,
   "id": "7af1672e",
   "metadata": {},
   "outputs": [
    {
     "data": {
      "text/plain": [
       "'Janet Jackson is the best'"
      ]
     },
     "execution_count": 32,
     "metadata": {},
     "output_type": "execute_result"
    }
   ],
   "source": [
    "A='Michael Jackson is the best'\n",
    "B=A.replace('Michael', 'Janet')\n",
    "\n",
    "B"
   ]
  },
  {
   "cell_type": "markdown",
   "id": "b131f1a3",
   "metadata": {},
   "source": [
    "The method find, finds sub-strings. The argument is the sub-string you would like\n",
    "to find. The output is the first index of the sequence. If the sub-string is not in the string, the\n",
    "output is negative one."
   ]
  },
  {
   "cell_type": "code",
   "execution_count": 33,
   "id": "e1cd93a7",
   "metadata": {},
   "outputs": [
    {
     "data": {
      "text/plain": [
       "5"
      ]
     },
     "execution_count": 33,
     "metadata": {},
     "output_type": "execute_result"
    }
   ],
   "source": [
    "name='Michael Jackson'\n",
    "name.find('el')"
   ]
  },
  {
   "cell_type": "code",
   "execution_count": 35,
   "id": "cb316344",
   "metadata": {},
   "outputs": [
    {
     "data": {
      "text/plain": [
       "8"
      ]
     },
     "execution_count": 35,
     "metadata": {},
     "output_type": "execute_result"
    }
   ],
   "source": [
    "name.find('Jackson')"
   ]
  },
  {
   "cell_type": "code",
   "execution_count": 36,
   "id": "749456fe",
   "metadata": {},
   "outputs": [
    {
     "data": {
      "text/plain": [
       "-1"
      ]
     },
     "execution_count": 36,
     "metadata": {},
     "output_type": "execute_result"
    }
   ],
   "source": [
    "name.find('Janet')"
   ]
  }
 ],
 "metadata": {
  "kernelspec": {
   "display_name": "Python 3 (ipykernel)",
   "language": "python",
   "name": "python3"
  },
  "language_info": {
   "codemirror_mode": {
    "name": "ipython",
    "version": 3
   },
   "file_extension": ".py",
   "mimetype": "text/x-python",
   "name": "python",
   "nbconvert_exporter": "python",
   "pygments_lexer": "ipython3",
   "version": "3.9.12"
  }
 },
 "nbformat": 4,
 "nbformat_minor": 5
}
