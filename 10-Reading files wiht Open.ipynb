{
 "cells": [
  {
   "cell_type": "markdown",
   "id": "981254ae",
   "metadata": {},
   "source": [
    "# Reading files with Open\n",
    "In this section we will use Python’s built-in open function to create a file object and\n",
    "obtain the data from a txt file."
   ]
  },
  {
   "cell_type": "markdown",
   "id": "e1c413bd",
   "metadata": {},
   "source": [
    "## Open"
   ]
  },
  {
   "cell_type": "markdown",
   "id": "b8701ef9",
   "metadata": {},
   "source": [
    "We can open the file Example1 \". txt\" as follows We use the open function."
   ]
  },
  {
   "cell_type": "code",
   "execution_count": 27,
   "id": "b9cc78af",
   "metadata": {},
   "outputs": [],
   "source": [
    "file1=open('../Example1.txt', 'r')"
   ]
  },
  {
   "cell_type": "markdown",
   "id": "e8ae42a9",
   "metadata": {},
   "source": [
    "The first argument is the file path.\n",
    "This is made up of the file name and the file directory. The second parameter is the mode; common values used include 'r' for reading, 'w' for writing\n",
    "and 'a' for appending. 'fiel1' is the object."
   ]
  },
  {
   "cell_type": "markdown",
   "id": "eae1dd0b",
   "metadata": {},
   "source": [
    "We can use the data attribute name to get the name of the file.\n",
    "The result is a string that contains the name of the file."
   ]
  },
  {
   "cell_type": "code",
   "execution_count": 28,
   "id": "c14c1182",
   "metadata": {},
   "outputs": [
    {
     "data": {
      "text/plain": [
       "'../Example1.txt'"
      ]
     },
     "execution_count": 28,
     "metadata": {},
     "output_type": "execute_result"
    }
   ],
   "source": [
    "file1.name"
   ]
  },
  {
   "cell_type": "markdown",
   "id": "9af7fd0a",
   "metadata": {},
   "source": [
    "We can see what mode the object is in using the data attribute mode.\n",
    "An ‘r’ is shown representing read."
   ]
  },
  {
   "cell_type": "code",
   "execution_count": 29,
   "id": "7edb33ff",
   "metadata": {},
   "outputs": [
    {
     "data": {
      "text/plain": [
       "'r'"
      ]
     },
     "execution_count": 29,
     "metadata": {},
     "output_type": "execute_result"
    }
   ],
   "source": [
    "file1.mode"
   ]
  },
  {
   "cell_type": "markdown",
   "id": "4c353ed7",
   "metadata": {},
   "source": [
    "You should always close the file object using the method close."
   ]
  },
  {
   "cell_type": "code",
   "execution_count": 30,
   "id": "2b19b963",
   "metadata": {},
   "outputs": [],
   "source": [
    "file1.close()"
   ]
  },
  {
   "cell_type": "markdown",
   "id": "b62da6bf",
   "metadata": {},
   "source": [
    "This may get tedious sometimes, so let’s use the “with statement.”"
   ]
  },
  {
   "cell_type": "markdown",
   "id": "5422fcc1",
   "metadata": {},
   "source": [
    "## With Statement\n",
    "Using a 'with' statement to open the file is better practice because it automatically\n",
    "closes the file."
   ]
  },
  {
   "cell_type": "markdown",
   "id": "b3c59a15",
   "metadata": {},
   "source": [
    "The code will run everything in the indent block, then closes the file.\n",
    "This code reads the file Example1.txt."
   ]
  },
  {
   "cell_type": "code",
   "execution_count": 31,
   "id": "0774e9b4",
   "metadata": {},
   "outputs": [
    {
     "name": "stdout",
     "output_type": "stream",
     "text": [
      "some text\n",
      "some more text\n",
      "some even more text\n"
     ]
    }
   ],
   "source": [
    "with open('../Example1.txt') as file1:\n",
    "    file_stuff=file1.read()\n",
    "    print(file_stuff)"
   ]
  },
  {
   "cell_type": "markdown",
   "id": "01b6cd66",
   "metadata": {},
   "source": [
    "You can check if the file content is closed, but you cannot read from it outside the indent."
   ]
  },
  {
   "cell_type": "code",
   "execution_count": 32,
   "id": "00c426ba",
   "metadata": {},
   "outputs": [
    {
     "name": "stdout",
     "output_type": "stream",
     "text": [
      "True\n"
     ]
    }
   ],
   "source": [
    "print(file1.closed)"
   ]
  },
  {
   "cell_type": "markdown",
   "id": "12655312",
   "metadata": {},
   "source": [
    "But you can print the file content outside the indent as well."
   ]
  },
  {
   "cell_type": "code",
   "execution_count": 33,
   "id": "b9168890",
   "metadata": {},
   "outputs": [
    {
     "name": "stdout",
     "output_type": "stream",
     "text": [
      "some text\n",
      "some more text\n",
      "some even more text\n"
     ]
    }
   ],
   "source": [
    "print(file_stuff)"
   ]
  },
  {
   "cell_type": "markdown",
   "id": "79a518db",
   "metadata": {},
   "source": [
    "When we examine the raw string, we will see the slash n; this is so Python knows to start\n",
    "a new line."
   ]
  },
  {
   "cell_type": "code",
   "execution_count": 34,
   "id": "e9e6adbd",
   "metadata": {},
   "outputs": [
    {
     "data": {
      "text/plain": [
       "'some text\\nsome more text\\nsome even more text'"
      ]
     },
     "execution_count": 34,
     "metadata": {},
     "output_type": "execute_result"
    }
   ],
   "source": [
    "file_stuff"
   ]
  },
  {
   "cell_type": "markdown",
   "id": "cc333235",
   "metadata": {},
   "source": [
    "## readlines Method\n",
    "We can output every line as an element in a list using the method readlines."
   ]
  },
  {
   "cell_type": "code",
   "execution_count": 35,
   "id": "a7361203",
   "metadata": {},
   "outputs": [
    {
     "name": "stdout",
     "output_type": "stream",
     "text": [
      "['some text\\n', 'some more text\\n', 'some even more text']\n"
     ]
    }
   ],
   "source": [
    "with open('../Example1.txt') as file1:\n",
    "    file_stuff=file1.readlines()\n",
    "    print(file_stuff)"
   ]
  },
  {
   "cell_type": "markdown",
   "id": "879e0048",
   "metadata": {},
   "source": [
    "The first line corresponds to the first element in the list."
   ]
  },
  {
   "cell_type": "code",
   "execution_count": 36,
   "id": "150c87d3",
   "metadata": {},
   "outputs": [
    {
     "data": {
      "text/plain": [
       "'some text\\n'"
      ]
     },
     "execution_count": 36,
     "metadata": {},
     "output_type": "execute_result"
    }
   ],
   "source": [
    "file_stuff[0]"
   ]
  },
  {
   "cell_type": "markdown",
   "id": "b70b56a4",
   "metadata": {},
   "source": [
    "The second line corresponds to the second element in the list, and so on."
   ]
  },
  {
   "cell_type": "code",
   "execution_count": 37,
   "id": "01386344",
   "metadata": {},
   "outputs": [
    {
     "data": {
      "text/plain": [
       "'some more text\\n'"
      ]
     },
     "execution_count": 37,
     "metadata": {},
     "output_type": "execute_result"
    }
   ],
   "source": [
    "file_stuff[1]"
   ]
  },
  {
   "cell_type": "markdown",
   "id": "a4b3f306",
   "metadata": {},
   "source": [
    "We can use the method read line twice: The first time it’s called, it will save\n",
    "the first line in the variable file_stuff.The second time it’s called it will save the second line in the variable file_stuff"
   ]
  },
  {
   "cell_type": "code",
   "execution_count": 38,
   "id": "2de66666",
   "metadata": {},
   "outputs": [
    {
     "name": "stdout",
     "output_type": "stream",
     "text": [
      "some text\n",
      "\n",
      "some more text\n",
      "\n"
     ]
    }
   ],
   "source": [
    "with open('../Example1.txt') as file1:\n",
    "    file_stuff=file1.readline()\n",
    "    print(file_stuff)\n",
    "    file_stuff=file1.readline()\n",
    "    print(file_stuff)"
   ]
  },
  {
   "cell_type": "markdown",
   "id": "508eacd8",
   "metadata": {},
   "source": [
    "We can use a loop to print out each line individually as follows."
   ]
  },
  {
   "cell_type": "code",
   "execution_count": 39,
   "id": "9efddda0",
   "metadata": {},
   "outputs": [
    {
     "name": "stdout",
     "output_type": "stream",
     "text": [
      "some text\n",
      "\n",
      "some more text\n",
      "\n",
      "some even more text\n"
     ]
    }
   ],
   "source": [
    "with open('../Example1.txt','r') as file1:\n",
    "    for line in file1:\n",
    "        print(line)"
   ]
  },
  {
   "cell_type": "markdown",
   "id": "5b1439b1",
   "metadata": {},
   "source": [
    "Let's represent every character in a string as a grid.\n",
    "We can specify the number of characters we would like to read from a string as an argument\n",
    "to the method readlines."
   ]
  },
  {
   "cell_type": "code",
   "execution_count": 44,
   "id": "3be8cfb1",
   "metadata": {},
   "outputs": [
    {
     "name": "stdout",
     "output_type": "stream",
     "text": [
      "['some text\\n', 'some more text\\n']\n"
     ]
    }
   ],
   "source": [
    "with open('../Example1.txt','r') as file1:\n",
    "    file_stuff=file1.readlines(10)\n",
    "    print(file_stuff)"
   ]
  },
  {
   "cell_type": "code",
   "execution_count": 45,
   "id": "6723cf97",
   "metadata": {},
   "outputs": [
    {
     "name": "stdout",
     "output_type": "stream",
     "text": [
      "['some text\\n', 'some more text\\n', 'some even more text']\n"
     ]
    }
   ],
   "source": [
    "with open('../Example1.txt','r') as file1:\n",
    "    file_stuff=file1.readlines(30)\n",
    "    print(file_stuff)"
   ]
  }
 ],
 "metadata": {
  "kernelspec": {
   "display_name": "Python 3 (ipykernel)",
   "language": "python",
   "name": "python3"
  },
  "language_info": {
   "codemirror_mode": {
    "name": "ipython",
    "version": 3
   },
   "file_extension": ".py",
   "mimetype": "text/x-python",
   "name": "python",
   "nbconvert_exporter": "python",
   "pygments_lexer": "ipython3",
   "version": "3.9.12"
  }
 },
 "nbformat": 4,
 "nbformat_minor": 5
}
