{
 "cells": [
  {
   "cell_type": "markdown",
   "id": "72294a4f",
   "metadata": {},
   "source": [
    "# Functions\n",
    "Functions take some input then produce some output or change.\n",
    "The function is just a piece of code you can reuse."
   ]
  },
  {
   "cell_type": "markdown",
   "id": "df38aa53",
   "metadata": {},
   "source": [
    "## Python Built-in functions\n",
    "Python has many built-in functions; you don't have to know how those functions work internally,\n",
    "but simply what task those functions perform."
   ]
  },
  {
   "cell_type": "markdown",
   "id": "2a77aebb",
   "metadata": {},
   "source": [
    "The function len takes in an input of type\n",
    "sequence, such as a string or list, or type collection, such as a dictionary or set, and\n",
    "returns the length of that sequence or collection."
   ]
  },
  {
   "cell_type": "markdown",
   "id": "67dfe190",
   "metadata": {},
   "source": [
    "The len function takes this list as an argument, and we assign the result to the variable L."
   ]
  },
  {
   "cell_type": "code",
   "execution_count": 7,
   "id": "17574277",
   "metadata": {},
   "outputs": [
    {
     "data": {
      "text/plain": [
       "7"
      ]
     },
     "execution_count": 7,
     "metadata": {},
     "output_type": "execute_result"
    }
   ],
   "source": [
    "album_ratings=[4,10,8.5,6,8,9.5,9]\n",
    "\n",
    "L=len(album_ratings)\n",
    "L"
   ]
  },
  {
   "cell_type": "markdown",
   "id": "f5cae24e",
   "metadata": {},
   "source": [
    " The function 'sum' takes in an iterable like\n",
    "a tuple or list and returns the total of all the elements.\n",
    "Consider the following list. We pass the list into the sum function and\n",
    "assign the result to the variable S. The function determines the total of all the\n",
    "elements, then returns it,"
   ]
  },
  {
   "cell_type": "code",
   "execution_count": 9,
   "id": "d9a301dc",
   "metadata": {},
   "outputs": [
    {
     "data": {
      "text/plain": [
       "55.0"
      ]
     },
     "execution_count": 9,
     "metadata": {},
     "output_type": "execute_result"
    }
   ],
   "source": [
    "S=sum(album_ratings)\n",
    "S"
   ]
  },
  {
   "cell_type": "markdown",
   "id": "872d3cb3",
   "metadata": {},
   "source": [
    "### Sorted vs Sort\n",
    "There are two ways to sort a list. The first is using the function sorted.\n",
    "We can also use the list method sort. Methods are similar to functions."
   ]
  },
  {
   "cell_type": "markdown",
   "id": "1f7e045b",
   "metadata": {},
   "source": [
    "The function sorted Returns a new sorted list or tuple.They produce a new output, in this instance, a sorted list."
   ]
  },
  {
   "cell_type": "code",
   "execution_count": 10,
   "id": "187ed89d",
   "metadata": {},
   "outputs": [
    {
     "data": {
      "text/plain": [
       "[4, 6, 8, 8.5, 9, 9.5, 10]"
      ]
     },
     "execution_count": 10,
     "metadata": {},
     "output_type": "execute_result"
    }
   ],
   "source": [
    "sorted_album_ratings=sorted(album_ratings)\n",
    "sorted_album_ratings"
   ]
  },
  {
   "cell_type": "markdown",
   "id": "a023af01",
   "metadata": {},
   "source": [
    "When we apply the method sort to the list,\n",
    "the list album rating changes. Unlike the previous case, we see that the\n",
    "list album rating has changed. In this case, no new list is created."
   ]
  },
  {
   "cell_type": "code",
   "execution_count": 13,
   "id": "b795b3bf",
   "metadata": {},
   "outputs": [
    {
     "data": {
      "text/plain": [
       "[4, 6, 8, 8.5, 9, 9.5, 10]"
      ]
     },
     "execution_count": 13,
     "metadata": {},
     "output_type": "execute_result"
    }
   ],
   "source": [
    "album_ratings.sort()\n",
    "album_ratings"
   ]
  },
  {
   "cell_type": "markdown",
   "id": "f3c2580e",
   "metadata": {},
   "source": [
    "## Making Functions"
   ]
  },
  {
   "cell_type": "markdown",
   "id": "ce5eac52",
   "metadata": {},
   "source": [
    "You can implement your own function, but in many cases, you use other people’s functions.\n",
    "In this case, you just have to know how the function works and in some cases how to import\n",
    "the functions. "
   ]
  },
  {
   "cell_type": "markdown",
   "id": "0b3cab10",
   "metadata": {},
   "source": [
    "To define a function, we start with the keyword\n",
    "def. The name of the function should be descriptive\n",
    "of what it does. We have the function formal parameter \"A\"\n",
    "in parentheses. Followed by a colon.\n",
    "We have a code block with an indent"
   ]
  },
  {
   "cell_type": "markdown",
   "id": "25c92eae",
   "metadata": {},
   "source": [
    "For this case, we add 1 to \"A\" and assign it to B.\n",
    "We return or output the value for b. After we define the function, we can call\n",
    "it. The function will add 1 to 5 and return b"
   ]
  },
  {
   "cell_type": "code",
   "execution_count": 21,
   "id": "89572889",
   "metadata": {},
   "outputs": [],
   "source": [
    "def add1(a):\n",
    "    'add 1 to input'\n",
    "    b=a+1\n",
    "    return b"
   ]
  },
  {
   "cell_type": "code",
   "execution_count": 22,
   "id": "0182171f",
   "metadata": {},
   "outputs": [
    {
     "data": {
      "text/plain": [
       "6"
      ]
     },
     "execution_count": 22,
     "metadata": {},
     "output_type": "execute_result"
    }
   ],
   "source": [
    "f1(5)"
   ]
  },
  {
   "cell_type": "markdown",
   "id": "d75c2f15",
   "metadata": {},
   "source": [
    "Lets define another function which adds 2 to 'a' upon calling"
   ]
  },
  {
   "cell_type": "code",
   "execution_count": 23,
   "id": "dbf2dc14",
   "metadata": {},
   "outputs": [],
   "source": [
    "def add2(a):\n",
    "    'add 2 to input'\n",
    "    b=a+2\n",
    "    return b"
   ]
  },
  {
   "cell_type": "code",
   "execution_count": 24,
   "id": "309786ad",
   "metadata": {},
   "outputs": [
    {
     "data": {
      "text/plain": [
       "7"
      ]
     },
     "execution_count": 24,
     "metadata": {},
     "output_type": "execute_result"
    }
   ],
   "source": [
    "f2(5)"
   ]
  },
  {
   "cell_type": "markdown",
   "id": "8582196a",
   "metadata": {},
   "source": [
    "We can call the function again; this time\n",
    "assign it to the variable \"c\" The value for 'c' is 11."
   ]
  },
  {
   "cell_type": "code",
   "execution_count": 25,
   "id": "639170c0",
   "metadata": {},
   "outputs": [
    {
     "data": {
      "text/plain": [
       "11"
      ]
     },
     "execution_count": 25,
     "metadata": {},
     "output_type": "execute_result"
    }
   ],
   "source": [
    "c=add1(10)\n",
    "c"
   ]
  },
  {
   "cell_type": "markdown",
   "id": "e4477b18",
   "metadata": {},
   "source": [
    "It's customary to document the function on the first few lines; this tells anyone who\n",
    "uses the function what it does. This documentation is surrounded in triple\n",
    "quotes. You can use the help command on the function\n",
    "to display the documentation as follows. "
   ]
  },
  {
   "cell_type": "code",
   "execution_count": 26,
   "id": "0303e488",
   "metadata": {},
   "outputs": [],
   "source": [
    "def add1(a):\n",
    "    \"\"\"\n",
    "    add 1 to a\n",
    "    \"\"\"\n",
    "    b=a+1\n",
    "    return b"
   ]
  },
  {
   "cell_type": "code",
   "execution_count": 27,
   "id": "3dd51a44",
   "metadata": {},
   "outputs": [
    {
     "name": "stdout",
     "output_type": "stream",
     "text": [
      "Help on function add1 in module __main__:\n",
      "\n",
      "add1(a)\n",
      "    add 1 to a\n",
      "\n"
     ]
    }
   ],
   "source": [
    "help(add1)"
   ]
  },
  {
   "cell_type": "markdown",
   "id": "7e169436",
   "metadata": {},
   "source": [
    "### Multiple Parameters\n",
    "A function can have multiple parameters."
   ]
  },
  {
   "cell_type": "markdown",
   "id": "73aafa51",
   "metadata": {},
   "source": [
    "The function mult multiplies two numbers; in other words, it finds their product.\n",
    "If we pass the integers 2 and 3, the result is a new integer."
   ]
  },
  {
   "cell_type": "code",
   "execution_count": 28,
   "id": "dbdec358",
   "metadata": {},
   "outputs": [
    {
     "data": {
      "text/plain": [
       "6"
      ]
     },
     "execution_count": 28,
     "metadata": {},
     "output_type": "execute_result"
    }
   ],
   "source": [
    "def Mult(a,b):\n",
    "    c=a*b\n",
    "    return c\n",
    "\n",
    "Mult(2,3)"
   ]
  },
  {
   "cell_type": "code",
   "execution_count": 29,
   "id": "bd2e9c12",
   "metadata": {},
   "outputs": [
    {
     "data": {
      "text/plain": [
       "31.400000000000002"
      ]
     },
     "execution_count": 29,
     "metadata": {},
     "output_type": "execute_result"
    }
   ],
   "source": [
    "Mult(10,3.14)"
   ]
  },
  {
   "cell_type": "markdown",
   "id": "11ca77cb",
   "metadata": {},
   "source": [
    "If we pass in the integer two and the string “Michael Jackson,” the string Michael\n",
    "Jackson is repeated two times. This is because the multiplication symbol\n",
    "can also mean repeat a sequence. "
   ]
  },
  {
   "cell_type": "code",
   "execution_count": 30,
   "id": "6cfcee48",
   "metadata": {},
   "outputs": [
    {
     "data": {
      "text/plain": [
       "'Michael JacksonMichael Jackson'"
      ]
     },
     "execution_count": 30,
     "metadata": {},
     "output_type": "execute_result"
    }
   ],
   "source": [
    "Mult(2,'Michael Jackson')"
   ]
  },
  {
   "cell_type": "markdown",
   "id": "a378d5a9",
   "metadata": {},
   "source": [
    "### No Parameters"
   ]
  },
  {
   "cell_type": "markdown",
   "id": "b19b8a9b",
   "metadata": {},
   "source": [
    " In many cases a function does not have a return\n",
    "statement. In these cases, Python will return the special\n",
    "“None” object. "
   ]
  },
  {
   "cell_type": "markdown",
   "id": "4d61db91",
   "metadata": {},
   "source": [
    "Practically speaking, if your function has\n",
    "no return statement, you can treat it as if the function returns nothing at all.\n",
    "The function MJ simply prints the name 'Michael Jackson’."
   ]
  },
  {
   "cell_type": "code",
   "execution_count": 31,
   "id": "dc74b3ab",
   "metadata": {},
   "outputs": [
    {
     "name": "stdout",
     "output_type": "stream",
     "text": [
      "Michael Jackson\n"
     ]
    }
   ],
   "source": [
    "def MJ():\n",
    "    print('Michael Jackson')\n",
    "\n",
    "MJ()"
   ]
  },
  {
   "cell_type": "markdown",
   "id": "f494b710",
   "metadata": {},
   "source": [
    "### Pass"
   ]
  },
  {
   "cell_type": "markdown",
   "id": "173aa258",
   "metadata": {},
   "source": [
    "Let's define the function “No work” that performs no task. Python doesn’t allow a function to have an empty body, so we can use the keyword pass,\n",
    "which doesn’t do anything, but satisfies the requirement of a non-empty body."
   ]
  },
  {
   "cell_type": "code",
   "execution_count": 32,
   "id": "1b8d2782",
   "metadata": {},
   "outputs": [],
   "source": [
    "def NoWork():\n",
    "    pass"
   ]
  },
  {
   "cell_type": "markdown",
   "id": "f92397cd",
   "metadata": {},
   "source": [
    "If we call the function and print it out, the function returns a None. In the background, if the return statement is not called, Python will automatically return\n",
    "a None."
   ]
  },
  {
   "cell_type": "code",
   "execution_count": 33,
   "id": "8eb5c568",
   "metadata": {},
   "outputs": [
    {
     "name": "stdout",
     "output_type": "stream",
     "text": [
      "None\n"
     ]
    }
   ],
   "source": [
    "print(NoWork())"
   ]
  },
  {
   "cell_type": "code",
   "execution_count": 34,
   "id": "f97747b2",
   "metadata": {},
   "outputs": [],
   "source": [
    "def NoWork():\n",
    "    pass\n",
    "    return None"
   ]
  },
  {
   "cell_type": "code",
   "execution_count": 36,
   "id": "847f6d76",
   "metadata": {},
   "outputs": [
    {
     "name": "stdout",
     "output_type": "stream",
     "text": [
      "None\n"
     ]
    }
   ],
   "source": [
    "print(NoWork())"
   ]
  },
  {
   "cell_type": "markdown",
   "id": "c3b7590c",
   "metadata": {},
   "source": [
    "### Loops in Functions\n",
    "We can use loops in functions. "
   ]
  },
  {
   "cell_type": "markdown",
   "id": "60be93da",
   "metadata": {},
   "source": [
    " This function prints out the values and indexes\n",
    "of a loop or tuple."
   ]
  },
  {
   "cell_type": "code",
   "execution_count": 37,
   "id": "de89ae69",
   "metadata": {},
   "outputs": [],
   "source": [
    "def printStuff(Stuff):\n",
    "    for i,s in enumerate(Stuff):\n",
    "        print('Album ', i, 'rating is ', s)"
   ]
  },
  {
   "cell_type": "code",
   "execution_count": 38,
   "id": "8e85b267",
   "metadata": {},
   "outputs": [
    {
     "name": "stdout",
     "output_type": "stream",
     "text": [
      "Album  0 rating is  4\n",
      "Album  1 rating is  10\n",
      "Album  2 rating is  8.5\n",
      "Album  3 rating is  6\n",
      "Album  4 rating is  8\n",
      "Album  5 rating is  9.5\n",
      "Album  6 rating is  9\n"
     ]
    }
   ],
   "source": [
    "album_ratings=[4,10,8.5,6,8,9.5,9]\n",
    "printStuff(album_ratings)"
   ]
  },
  {
   "cell_type": "markdown",
   "id": "0b141d3d",
   "metadata": {},
   "source": [
    "### Collecting Arguments"
   ]
  },
  {
   "cell_type": "markdown",
   "id": "4af2c46a",
   "metadata": {},
   "source": [
    "Variadic parameters allow us to input a variable number of elements.\n",
    "Consider the following function; the function has an asterisk on the parameter names."
   ]
  },
  {
   "cell_type": "code",
   "execution_count": 40,
   "id": "6a5ffeb5",
   "metadata": {},
   "outputs": [],
   "source": [
    "def ArtistNames(*names):\n",
    "    for name in names:\n",
    "        print(names)"
   ]
  },
  {
   "cell_type": "markdown",
   "id": "c13e317d",
   "metadata": {},
   "source": [
    "When we call the function, three parameters are packed into the tuple names.\n",
    "We then iterate through the loop; the values are printed out accordingly"
   ]
  },
  {
   "cell_type": "code",
   "execution_count": 41,
   "id": "c5bb498d",
   "metadata": {},
   "outputs": [
    {
     "name": "stdout",
     "output_type": "stream",
     "text": [
      "(['Michael Jackson', 'AC/DC', 'Pink Floyd'],)\n"
     ]
    }
   ],
   "source": [
    "names=['Michael Jackson', 'AC/DC','Pink Floyd']\n",
    "ArtistNames(names)"
   ]
  },
  {
   "cell_type": "markdown",
   "id": "c74c8352",
   "metadata": {},
   "source": [
    "If we call the same function with only two parameters as inputs, the variable names only\n",
    "contain two elements. The result is only two values are printed"
   ]
  },
  {
   "cell_type": "code",
   "execution_count": 42,
   "id": "958da264",
   "metadata": {},
   "outputs": [
    {
     "name": "stdout",
     "output_type": "stream",
     "text": [
      "(['Michael Jackson', 'AC/DC'],)\n"
     ]
    }
   ],
   "source": [
    "names=['Michael Jackson', 'AC/DC']\n",
    "ArtistNames(names)"
   ]
  },
  {
   "cell_type": "markdown",
   "id": "edbd9f90",
   "metadata": {},
   "source": [
    "### Scope\n",
    "The scope of a variable is the part of the\n",
    "program where that variable is accessible."
   ]
  },
  {
   "cell_type": "markdown",
   "id": "680ad090",
   "metadata": {},
   "source": [
    "#### Scope: Global Variables\n",
    "Variables that are defined outside of any\n",
    "function are said to be within the global scope, meaning they can be accessed anywhere\n",
    "after they are defined. A variable defined in the global scope is\n",
    "called a global variable."
   ]
  },
  {
   "cell_type": "markdown",
   "id": "3f8769a8",
   "metadata": {},
   "source": [
    "#### Scope: Local Variables\n",
    "Local variables only exist within the scope\n",
    "of a function."
   ]
  },
  {
   "cell_type": "markdown",
   "id": "7003fe71",
   "metadata": {},
   "source": [
    "Consider the function thriller; the local\n",
    "variable Date is set to 1982. When we call the function, we create a new\n",
    "scope. Within that scope of the function, the value\n",
    "of the date is set to 1982."
   ]
  },
  {
   "cell_type": "code",
   "execution_count": 49,
   "id": "c807e5dd",
   "metadata": {},
   "outputs": [],
   "source": [
    "def Thriller():\n",
    "    Date=1982\n",
    "    return Date"
   ]
  },
  {
   "cell_type": "code",
   "execution_count": 51,
   "id": "a12f15e9",
   "metadata": {},
   "outputs": [
    {
     "data": {
      "text/plain": [
       "1982"
      ]
     },
     "execution_count": 51,
     "metadata": {},
     "output_type": "execute_result"
    }
   ],
   "source": [
    "Thriller()"
   ]
  },
  {
   "cell_type": "markdown",
   "id": "91099228",
   "metadata": {},
   "source": [
    "The value of date does not exist within the\n",
    "global scope. "
   ]
  },
  {
   "cell_type": "code",
   "execution_count": 52,
   "id": "6d53fd83",
   "metadata": {},
   "outputs": [
    {
     "ename": "NameError",
     "evalue": "name 'Date' is not defined",
     "output_type": "error",
     "traceback": [
      "\u001b[1;31m---------------------------------------------------------------------------\u001b[0m",
      "\u001b[1;31mNameError\u001b[0m                                 Traceback (most recent call last)",
      "Input \u001b[1;32mIn [52]\u001b[0m, in \u001b[0;36m<cell line: 1>\u001b[1;34m()\u001b[0m\n\u001b[1;32m----> 1\u001b[0m \u001b[43mDate\u001b[49m\n",
      "\u001b[1;31mNameError\u001b[0m: name 'Date' is not defined"
     ]
    }
   ],
   "source": [
    "Date"
   ]
  },
  {
   "cell_type": "markdown",
   "id": "c749f8f8",
   "metadata": {},
   "source": [
    "#### Scope: Variables\n",
    "Variables inside the global scope can have\n",
    "the same name as variables in the local scope with no conflict. Consider the function thriller; the local variable Date is set to 1982.\n",
    "The global variable date is set to 2017"
   ]
  },
  {
   "cell_type": "code",
   "execution_count": 56,
   "id": "7ce50ca8",
   "metadata": {},
   "outputs": [],
   "source": [
    "def Thriller():\n",
    "    Date=1982\n",
    "    return Date\n",
    "\n",
    "Date=2017"
   ]
  },
  {
   "cell_type": "code",
   "execution_count": 57,
   "id": "1f0e7fd4",
   "metadata": {},
   "outputs": [
    {
     "data": {
      "text/plain": [
       "1982"
      ]
     },
     "execution_count": 57,
     "metadata": {},
     "output_type": "execute_result"
    }
   ],
   "source": [
    "Thriller()"
   ]
  },
  {
   "cell_type": "code",
   "execution_count": 58,
   "id": "0b9cbf32",
   "metadata": {},
   "outputs": [
    {
     "data": {
      "text/plain": [
       "2017"
      ]
     },
     "execution_count": 58,
     "metadata": {},
     "output_type": "execute_result"
    }
   ],
   "source": [
    "Date"
   ]
  },
  {
   "cell_type": "markdown",
   "id": "7bbc290e",
   "metadata": {},
   "source": [
    "If a variable is not defined within a function, Python will check the global scope."
   ]
  },
  {
   "cell_type": "markdown",
   "id": "5eafbf17",
   "metadata": {},
   "source": [
    "Consider the function \"AC-DC“. The function has the variable rating, with no value assigned.\n",
    "If we define the variable rating in the global scope, then call the function, Python will\n",
    "see there is no value for the variable Rating. As a result, python will leave the scope and\n",
    "check if the variable Ratings exists in the global scope. It will use this value of Ratings\n",
    "in the global scope within the scope of \"AC-DC“."
   ]
  },
  {
   "cell_type": "code",
   "execution_count": 59,
   "id": "b896a11d",
   "metadata": {},
   "outputs": [],
   "source": [
    "def ACDC(y):\n",
    "    print(Ratings)\n",
    "    return (Ratings+y)\n",
    "\n",
    "Ratings=9"
   ]
  },
  {
   "cell_type": "code",
   "execution_count": 60,
   "id": "5412fdb7",
   "metadata": {},
   "outputs": [
    {
     "name": "stdout",
     "output_type": "stream",
     "text": [
      "9\n"
     ]
    },
    {
     "data": {
      "text/plain": [
       "10"
      ]
     },
     "execution_count": 60,
     "metadata": {},
     "output_type": "execute_result"
    }
   ],
   "source": [
    "Z=ACDC(1)\n",
    "Z"
   ]
  },
  {
   "cell_type": "code",
   "execution_count": 61,
   "id": "37e8f636",
   "metadata": {},
   "outputs": [
    {
     "name": "stdout",
     "output_type": "stream",
     "text": [
      "9\n"
     ]
    }
   ],
   "source": [
    "print(Ratings)"
   ]
  }
 ],
 "metadata": {
  "kernelspec": {
   "display_name": "Python 3 (ipykernel)",
   "language": "python",
   "name": "python3"
  },
  "language_info": {
   "codemirror_mode": {
    "name": "ipython",
    "version": 3
   },
   "file_extension": ".py",
   "mimetype": "text/x-python",
   "name": "python",
   "nbconvert_exporter": "python",
   "pygments_lexer": "ipython3",
   "version": "3.9.12"
  }
 },
 "nbformat": 4,
 "nbformat_minor": 5
}
