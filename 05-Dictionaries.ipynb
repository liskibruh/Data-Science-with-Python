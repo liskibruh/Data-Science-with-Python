{
 "cells": [
  {
   "cell_type": "markdown",
   "id": "e30c210f",
   "metadata": {},
   "source": [
    "# Dictionaries\n",
    " Dictionaries are a type of collection in Python.\n",
    "If you recall, a list has integer indexes. These are like addresses.\n",
    "A list also has elements. A dictionary has keys and values.\n",
    "The key is analogous to the index, they are like addresses but they don’t have to be\n",
    "integers. They are usually characters; the values are\n",
    "similar to the elements in a list and contain information."
   ]
  },
  {
   "cell_type": "markdown",
   "id": "95b29afa",
   "metadata": {},
   "source": [
    "To create a dictionary, we use curly brackets. The keys are the first elements; they must\n",
    "be immutable and unique. Each key is followed by a value separated\n",
    "by a colon. The values can be immutable, mutable and duplicates."
   ]
  },
  {
   "cell_type": "code",
   "execution_count": 2,
   "id": "427b47aa",
   "metadata": {},
   "outputs": [
    {
     "data": {
      "text/plain": [
       "{'key1': 1, 'key2': '2', 'key3': [3, 3, 3], 'key4': (4, 4, 4), 'key5': 5}"
      ]
     },
     "execution_count": 2,
     "metadata": {},
     "output_type": "execute_result"
    }
   ],
   "source": [
    "A={'key1':1, 'key2':'2', 'key3':[3,3,3], 'key4':(4,4,4), 'key5': 5}\n",
    "A"
   ]
  },
  {
   "cell_type": "markdown",
   "id": "3844b0f0",
   "metadata": {},
   "source": [
    "Consider the following example of a dictionary, the album title is the key and the value is\n",
    "the release data."
   ]
  },
  {
   "cell_type": "code",
   "execution_count": 7,
   "id": "4b49474a",
   "metadata": {},
   "outputs": [
    {
     "data": {
      "text/plain": [
       "{'thriller': 1982,\n",
       " 'back in black': 1980,\n",
       " 'the dark side of the moon': 1973,\n",
       " 'the bodyguard': 1992}"
      ]
     },
     "execution_count": 7,
     "metadata": {},
     "output_type": "execute_result"
    }
   ],
   "source": [
    "albums_dict={'thriller': 1982, 'back in black': 1980, 'the dark side of the moon': 1973, 'the bodyguard': 1992}\n",
    "albums_dict"
   ]
  },
  {
   "cell_type": "markdown",
   "id": "e90ee5db",
   "metadata": {},
   "source": [
    "We use\n",
    "square brackets; the argument is the key. This outputs the value."
   ]
  },
  {
   "cell_type": "code",
   "execution_count": 8,
   "id": "1cd840c6",
   "metadata": {},
   "outputs": [
    {
     "data": {
      "text/plain": [
       "1973"
      ]
     },
     "execution_count": 8,
     "metadata": {},
     "output_type": "execute_result"
    }
   ],
   "source": [
    "albums_dict['the dark side of the moon']"
   ]
  },
  {
   "cell_type": "markdown",
   "id": "68eebc3e",
   "metadata": {},
   "source": [
    "We can add a new entry to the dictionary as follows.\n",
    "This will add the value 2007 with the new key called \"Graduation.\""
   ]
  },
  {
   "cell_type": "code",
   "execution_count": 9,
   "id": "b10f867e",
   "metadata": {},
   "outputs": [
    {
     "data": {
      "text/plain": [
       "{'thriller': 1982,\n",
       " 'back in black': 1980,\n",
       " 'the dark side of the moon': 1973,\n",
       " 'the bodyguard': 1992,\n",
       " 'graduation': 2007}"
      ]
     },
     "execution_count": 9,
     "metadata": {},
     "output_type": "execute_result"
    }
   ],
   "source": [
    "albums_dict['graduation']=2007\n",
    "\n",
    "albums_dict"
   ]
  },
  {
   "cell_type": "markdown",
   "id": "c6143406",
   "metadata": {},
   "source": [
    "We can delete an entry as follows"
   ]
  },
  {
   "cell_type": "code",
   "execution_count": 10,
   "id": "8a9fd7a3",
   "metadata": {},
   "outputs": [
    {
     "data": {
      "text/plain": [
       "{'back in black': 1980,\n",
       " 'the dark side of the moon': 1973,\n",
       " 'the bodyguard': 1992,\n",
       " 'graduation': 2007}"
      ]
     },
     "execution_count": 10,
     "metadata": {},
     "output_type": "execute_result"
    }
   ],
   "source": [
    "del(albums_dict['thriller'])\n",
    "\n",
    "albums_dict"
   ]
  },
  {
   "cell_type": "markdown",
   "id": "e4185523",
   "metadata": {},
   "source": [
    " We can verify if an element is in the dictionary\n",
    "using the in command as follows."
   ]
  },
  {
   "cell_type": "code",
   "execution_count": 11,
   "id": "f6322ea1",
   "metadata": {},
   "outputs": [
    {
     "data": {
      "text/plain": [
       "True"
      ]
     },
     "execution_count": 11,
     "metadata": {},
     "output_type": "execute_result"
    }
   ],
   "source": [
    "'the bodyguard' in albums_dict"
   ]
  },
  {
   "cell_type": "code",
   "execution_count": 12,
   "id": "cbe89dda",
   "metadata": {},
   "outputs": [
    {
     "data": {
      "text/plain": [
       "False"
      ]
     },
     "execution_count": 12,
     "metadata": {},
     "output_type": "execute_result"
    }
   ],
   "source": [
    "'starboy' in albums_dict"
   ]
  },
  {
   "cell_type": "markdown",
   "id": "0a0a8db4",
   "metadata": {},
   "source": [
    " In order to see all the keys in a dictionary,\n",
    "we can use the method keys to get the keys. The output is a list like object with all\n",
    "the keys. "
   ]
  },
  {
   "cell_type": "code",
   "execution_count": 13,
   "id": "0b30ca89",
   "metadata": {},
   "outputs": [
    {
     "data": {
      "text/plain": [
       "dict_keys(['back in black', 'the dark side of the moon', 'the bodyguard', 'graduation'])"
      ]
     },
     "execution_count": 13,
     "metadata": {},
     "output_type": "execute_result"
    }
   ],
   "source": [
    "albums_dict.keys()"
   ]
  },
  {
   "cell_type": "markdown",
   "id": "412bf289",
   "metadata": {},
   "source": [
    "In the same way, we can obtain the values\n",
    "using the method values."
   ]
  },
  {
   "cell_type": "code",
   "execution_count": 14,
   "id": "6b256299",
   "metadata": {},
   "outputs": [
    {
     "data": {
      "text/plain": [
       "dict_values([1980, 1973, 1992, 2007])"
      ]
     },
     "execution_count": 14,
     "metadata": {},
     "output_type": "execute_result"
    }
   ],
   "source": [
    "albums_dict.values()"
   ]
  },
  {
   "cell_type": "code",
   "execution_count": null,
   "id": "adb3e5a7",
   "metadata": {},
   "outputs": [],
   "source": []
  }
 ],
 "metadata": {
  "kernelspec": {
   "display_name": "Python 3 (ipykernel)",
   "language": "python",
   "name": "python3"
  },
  "language_info": {
   "codemirror_mode": {
    "name": "ipython",
    "version": 3
   },
   "file_extension": ".py",
   "mimetype": "text/x-python",
   "name": "python",
   "nbconvert_exporter": "python",
   "pygments_lexer": "ipython3",
   "version": "3.9.12"
  }
 },
 "nbformat": 4,
 "nbformat_minor": 5
}
