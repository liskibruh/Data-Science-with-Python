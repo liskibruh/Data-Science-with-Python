{
 "cells": [
  {
   "attachments": {},
   "cell_type": "markdown",
   "id": "cbb5358e",
   "metadata": {},
   "source": [
    "# Sets\n",
    "Sets are also a type of collection. This means that like lists and tuples, you\n",
    "can input different python types. Unlike lists and tuples they are unordered.\n",
    "This means sets do not record element position. Sets only have unique elements.\n",
    "This means there is only one of a particular element in a set."
   ]
  },
  {
   "cell_type": "code",
   "execution_count": 1,
   "id": "399d3a59",
   "metadata": {},
   "outputs": [
    {
     "data": {
      "text/plain": [
       "{'R&B', 'disco', 'hard rock', 'pop', 'rock', 'soul'}"
      ]
     },
     "execution_count": 1,
     "metadata": {},
     "output_type": "execute_result"
    }
   ],
   "source": [
    "set1={'pop', 'rock', 'soul', 'hard rock', 'R&B', 'rock', 'disco'}\n",
    "set1"
   ]
  },
  {
   "cell_type": "markdown",
   "id": "269e160d",
   "metadata": {},
   "source": [
    "You can convert a list to a set by using the function set; this is called type-casting.\n",
    "You simply use the list as the input to the function set.\n",
    "The result will be a list converted to a set. Let's go over an example"
   ]
  },
  {
   "cell_type": "code",
   "execution_count": 3,
   "id": "de178223",
   "metadata": {},
   "outputs": [
    {
     "data": {
      "text/plain": [
       "{'1982', 'Michael Jackson', 'Thriller'}"
      ]
     },
     "execution_count": 3,
     "metadata": {},
     "output_type": "execute_result"
    }
   ],
   "source": [
    "album_list=['Michael Jackson', 'Thriller', 'Thriller', '1982']\n",
    "album_set=set(album_list)\n",
    "\n",
    "album_set"
   ]
  },
  {
   "cell_type": "markdown",
   "id": "47958fb2",
   "metadata": {},
   "source": [
    "## Set Operations\n",
    "We can add an item to a set using the add method.\n",
    "We just put the set name followed by a dot, then the add method.\n",
    "The argument is the new element of the set we would like to add, in this case, \"NSYNC\"."
   ]
  },
  {
   "cell_type": "code",
   "execution_count": 4,
   "id": "3a54c450",
   "metadata": {},
   "outputs": [
    {
     "data": {
      "text/plain": [
       "{'ac/dc', 'black in black', 'nsync', 'thriller'}"
      ]
     },
     "execution_count": 4,
     "metadata": {},
     "output_type": "execute_result"
    }
   ],
   "source": [
    "A={'thriller', 'black in black', 'ac/dc'}\n",
    "A.add('nsync')\n",
    "\n",
    "A"
   ]
  },
  {
   "cell_type": "markdown",
   "id": "0ba73a69",
   "metadata": {},
   "source": [
    "If we add the same item twice, nothing will\n",
    "happen as there can be no duplicates in a set."
   ]
  },
  {
   "cell_type": "code",
   "execution_count": 5,
   "id": "1e3900c5",
   "metadata": {},
   "outputs": [
    {
     "data": {
      "text/plain": [
       "{'ac/dc', 'black in black', 'nsync', 'thriller'}"
      ]
     },
     "execution_count": 5,
     "metadata": {},
     "output_type": "execute_result"
    }
   ],
   "source": [
    "A.add('nsync')\n",
    "A"
   ]
  },
  {
   "cell_type": "markdown",
   "id": "b2a7e553",
   "metadata": {},
   "source": [
    "We can also remove an item from a set using the remove method.\n",
    "We just put the set name followed by a dot then the remove method.\n",
    "The argument is the element of the set we would like to remove, in this case, \"NSYNC\"."
   ]
  },
  {
   "cell_type": "code",
   "execution_count": 6,
   "id": "0ba1c7df",
   "metadata": {},
   "outputs": [
    {
     "data": {
      "text/plain": [
       "{'ac/dc', 'black in black', 'thriller'}"
      ]
     },
     "execution_count": 6,
     "metadata": {},
     "output_type": "execute_result"
    }
   ],
   "source": [
    "A = {'ac/dc', 'black in black', 'nsync', 'thriller'}\n",
    "A.remove('nsync')\n",
    "\n",
    "A"
   ]
  },
  {
   "cell_type": "markdown",
   "id": "948dfa1e",
   "metadata": {},
   "source": [
    "We can verify if an element is in the set\n",
    "using the \"in\" command as follows. The command checks if the item, in this case,\n",
    "\"AC/DC\" is in the set. If the item is in the set, it returns true."
   ]
  },
  {
   "cell_type": "code",
   "execution_count": 7,
   "id": "e2c7187d",
   "metadata": {},
   "outputs": [
    {
     "data": {
      "text/plain": [
       "True"
      ]
     },
     "execution_count": 7,
     "metadata": {},
     "output_type": "execute_result"
    }
   ],
   "source": [
    "A={'thriller', 'black in black', 'ac/dc'}\n",
    "'ac/dc' in A"
   ]
  },
  {
   "cell_type": "code",
   "execution_count": 8,
   "id": "159df87d",
   "metadata": {},
   "outputs": [
    {
     "data": {
      "text/plain": [
       "False"
      ]
     },
     "execution_count": 8,
     "metadata": {},
     "output_type": "execute_result"
    }
   ],
   "source": [
    "'who' in A"
   ]
  },
  {
   "cell_type": "markdown",
   "id": "16fdabea",
   "metadata": {},
   "source": [
    "There are lots of useful mathematical operations we can do between sets. The Intersection of two sets is a new set containing elements which are in both of those\n",
    "sets.  In Python, we use the ampersand to find the\n",
    "intersection of two sets."
   ]
  },
  {
   "cell_type": "code",
   "execution_count": 9,
   "id": "e73b05c1",
   "metadata": {},
   "outputs": [
    {
     "data": {
      "text/plain": [
       "{'black in black', 'thriller'}"
      ]
     },
     "execution_count": 9,
     "metadata": {},
     "output_type": "execute_result"
    }
   ],
   "source": [
    "album_set1={'thriller', 'black in black', 'ac/dc'}\n",
    "album_set2={'thriller', 'black in black', 'the dark side of the moon'}\n",
    "\n",
    "album_set1&album_set2"
   ]
  },
  {
   "cell_type": "markdown",
   "id": "b4edac03",
   "metadata": {},
   "source": [
    "The union of two sets is the new set of elements\n",
    "which contain all the items in both sets. We can find the union of the sets album set\n",
    "1 and album_set_2 as follows. "
   ]
  },
  {
   "cell_type": "code",
   "execution_count": 10,
   "id": "12041c54",
   "metadata": {},
   "outputs": [
    {
     "data": {
      "text/plain": [
       "{'ac/dc', 'black in black', 'the dark side of the moon', 'thriller'}"
      ]
     },
     "execution_count": 10,
     "metadata": {},
     "output_type": "execute_result"
    }
   ],
   "source": [
    "album_set1.union(album_set2)"
   ]
  },
  {
   "cell_type": "markdown",
   "id": "ea68bb2c",
   "metadata": {},
   "source": [
    "We can check if a set is a subset using the is subset method.\n",
    "As album_set_3 is a subset of the album_set_1, the result is true."
   ]
  },
  {
   "cell_type": "code",
   "execution_count": 11,
   "id": "78706c9d",
   "metadata": {},
   "outputs": [
    {
     "data": {
      "text/plain": [
       "True"
      ]
     },
     "execution_count": 11,
     "metadata": {},
     "output_type": "execute_result"
    }
   ],
   "source": [
    "album_set3={'ac/dc', 'black in black'}\n",
    "\n",
    "album_set3.issubset(album_set1)"
   ]
  }
 ],
 "metadata": {
  "kernelspec": {
   "display_name": "Python 3 (ipykernel)",
   "language": "python",
   "name": "python3"
  },
  "language_info": {
   "codemirror_mode": {
    "name": "ipython",
    "version": 3
   },
   "file_extension": ".py",
   "mimetype": "text/x-python",
   "name": "python",
   "nbconvert_exporter": "python",
   "pygments_lexer": "ipython3",
   "version": "3.9.12"
  }
 },
 "nbformat": 4,
 "nbformat_minor": 5
}
