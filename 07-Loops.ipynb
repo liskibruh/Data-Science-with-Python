{
 "cells": [
  {
   "cell_type": "markdown",
   "id": "ad3cd8d5",
   "metadata": {},
   "source": [
    "# Loops"
   ]
  },
  {
   "cell_type": "markdown",
   "id": "cb77bd5c",
   "metadata": {},
   "source": [
    "## For Loop\n",
    " We will focus on lists, but many of the procedures\n",
    "can be used on tuples. Loops perform a task over and over."
   ]
  },
  {
   "cell_type": "markdown",
   "id": "285ca692",
   "metadata": {},
   "source": [
    "Let's use a list to represent boxes.\n",
    "Each element in the list is a string representing the color.\n",
    "We want to change the name of the color in each element to white. in other words, we want to change the color of each box to white. Each element in the list has  an index.\n",
    "This is the syntax to perform a loop in Python. Notice the indent."
   ]
  },
  {
   "cell_type": "code",
   "execution_count": 4,
   "id": "21976a35",
   "metadata": {},
   "outputs": [],
   "source": [
    "boxes=['red', 'yellow', 'green', 'purple', 'blue']\n",
    "\n",
    "for i in range(0,5):\n",
    "    boxes[i]='white'"
   ]
  },
  {
   "cell_type": "markdown",
   "id": "4ed8a33a",
   "metadata": {},
   "source": [
    "The range function generates a list. The code will simply repeat everything in\n",
    "the indent 5 times.  The value of “i” is incremented by one each time.\n",
    "In this segment we change the i-th element of the list to the string white."
   ]
  },
  {
   "cell_type": "code",
   "execution_count": 6,
   "id": "d6c7ef9f",
   "metadata": {},
   "outputs": [
    {
     "data": {
      "text/plain": [
       "['white', 'white', 'white', 'white', 'white']"
      ]
     },
     "execution_count": 6,
     "metadata": {},
     "output_type": "execute_result"
    }
   ],
   "source": [
    "boxes"
   ]
  },
  {
   "cell_type": "markdown",
   "id": "e932a8e5",
   "metadata": {},
   "source": [
    "We can also iterate through a list or tuple directly in Python, we do not even need to\n",
    "use indexes. Here is the list squares. Each iteration of\n",
    "the list we pass one element of the list squares to the variable square."
   ]
  },
  {
   "cell_type": "code",
   "execution_count": 18,
   "id": "b05e1c4e",
   "metadata": {},
   "outputs": [
    {
     "name": "stdout",
     "output_type": "stream",
     "text": [
      "red\n",
      "yellow\n",
      "green\n"
     ]
    }
   ],
   "source": [
    "squares=['red','yellow','green']\n",
    "\n",
    "for square in squares:\n",
    "    print(square)"
   ]
  },
  {
   "cell_type": "markdown",
   "id": "aac58164",
   "metadata": {},
   "source": [
    "Let's use the box analogy, with the numbers\n",
    "representing the index of each square. This is the syntax to iterate through a list\n",
    "to provide the index of each element. "
   ]
  },
  {
   "cell_type": "code",
   "execution_count": 20,
   "id": "09760d34",
   "metadata": {},
   "outputs": [
    {
     "name": "stdout",
     "output_type": "stream",
     "text": [
      "red\n",
      "0\n",
      "yellow\n",
      "1\n",
      "green\n",
      "2\n",
      "purple\n",
      "3\n",
      "blue\n",
      "4\n"
     ]
    }
   ],
   "source": [
    "boxes=['red', 'yellow', 'green', 'purple', 'blue']\n",
    "\n",
    "for i,box in enumerate(boxes):\n",
    "    print(box)\n",
    "    print(i)"
   ]
  },
  {
   "cell_type": "markdown",
   "id": "256d8935",
   "metadata": {},
   "source": [
    "We use the list boxes and use the names\n",
    "of the colors to represent the colored boxes. The argument of the function enumerate is\n",
    "the list, in this case, boxes. The variable \"i\" is the index, and the variable\n",
    "box is the corresponding element in the list."
   ]
  },
  {
   "cell_type": "markdown",
   "id": "29a9fa1c",
   "metadata": {},
   "source": [
    "# While Loop\n",
    "“While loops” are similar to “for loops”, but instead of executing a statement a set\n",
    "number of times, a while loop will only run if a condition is met."
   ]
  },
  {
   "cell_type": "markdown",
   "id": "e4df17e4",
   "metadata": {},
   "source": [
    "Let’s say we would like to copy all the orange squares from the list squares to the\n",
    "list new squares, but we would like to stop if we encounter a non-orange square.\n",
    "We don't know the value of the squares beforehand. We would simply continue the process while\n",
    "the square is orange, or see if the square equals orange; if not, we would stop."
   ]
  },
  {
   "cell_type": "code",
   "execution_count": 27,
   "id": "e2a68786",
   "metadata": {},
   "outputs": [],
   "source": [
    "squares=['orange', 'orange', 'purple', 'orange']\n",
    "new_squares=[]\n",
    "i=0\n",
    "\n",
    "while squares[i]=='orange':\n",
    "    new_squares.append(squares[i])\n",
    "    i=i+1"
   ]
  },
  {
   "cell_type": "markdown",
   "id": "c8f61c72",
   "metadata": {},
   "source": [
    "We create an empty list of “new_squares.”\n",
    "In reality, the list is of indeterminate size. We start the index at zero.\n",
    "The “while” statement will repeatedly execute the statements within the indent until\n",
    "the condition inside the bracket is false. We append the value of the first element of\n",
    "the list squares to the list \"new_squares.\" We increase the value of “i” by one."
   ]
  },
  {
   "cell_type": "code",
   "execution_count": 28,
   "id": "12c9da97",
   "metadata": {},
   "outputs": [
    {
     "name": "stdout",
     "output_type": "stream",
     "text": [
      "['orange', 'orange']\n"
     ]
    }
   ],
   "source": [
    "print(new_squares)"
   ]
  }
 ],
 "metadata": {
  "kernelspec": {
   "display_name": "Python 3 (ipykernel)",
   "language": "python",
   "name": "python3"
  },
  "language_info": {
   "codemirror_mode": {
    "name": "ipython",
    "version": 3
   },
   "file_extension": ".py",
   "mimetype": "text/x-python",
   "name": "python",
   "nbconvert_exporter": "python",
   "pygments_lexer": "ipython3",
   "version": "3.9.12"
  }
 },
 "nbformat": 4,
 "nbformat_minor": 5
}
